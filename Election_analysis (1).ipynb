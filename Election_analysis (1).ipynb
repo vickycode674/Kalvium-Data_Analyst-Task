{
 "cells": [
  {
   "cell_type": "code",
   "execution_count": 1,
   "id": "a44a1f87-900e-490a-b7bf-ca4965198720",
   "metadata": {},
   "outputs": [
    {
     "name": "stdout",
     "output_type": "stream",
     "text": [
      "Requirement already satisfied: requests in c:\\users\\new\\appdata\\roaming\\python\\python311\\site-packages (2.31.0)\n",
      "Requirement already satisfied: beautifulsoup4 in c:\\users\\new\\appdata\\roaming\\python\\python311\\site-packages (4.12.3)\n",
      "Requirement already satisfied: pandas in c:\\users\\new\\anaconda3\\lib\\site-packages (2.1.4)\n",
      "Requirement already satisfied: matplotlib in c:\\users\\new\\anaconda3\\lib\\site-packages (3.8.0)\n",
      "Requirement already satisfied: seaborn in c:\\users\\new\\anaconda3\\lib\\site-packages (0.12.2)\n",
      "Requirement already satisfied: charset-normalizer<4,>=2 in c:\\users\\new\\appdata\\roaming\\python\\python311\\site-packages (from requests) (3.2.0)\n",
      "Requirement already satisfied: idna<4,>=2.5 in c:\\users\\new\\appdata\\roaming\\python\\python311\\site-packages (from requests) (3.4)\n",
      "Requirement already satisfied: urllib3<3,>=1.21.1 in c:\\users\\new\\appdata\\roaming\\python\\python311\\site-packages (from requests) (2.0.4)\n",
      "Requirement already satisfied: certifi>=2017.4.17 in c:\\users\\new\\appdata\\roaming\\python\\python311\\site-packages (from requests) (2023.7.22)\n",
      "Requirement already satisfied: soupsieve>1.2 in c:\\users\\new\\appdata\\roaming\\python\\python311\\site-packages (from beautifulsoup4) (2.5)\n",
      "Requirement already satisfied: numpy<2,>=1.23.2 in c:\\users\\new\\anaconda3\\lib\\site-packages (from pandas) (1.26.4)\n",
      "Requirement already satisfied: python-dateutil>=2.8.2 in c:\\users\\new\\anaconda3\\lib\\site-packages (from pandas) (2.8.2)\n",
      "Requirement already satisfied: pytz>=2020.1 in c:\\users\\new\\anaconda3\\lib\\site-packages (from pandas) (2023.3.post1)\n",
      "Requirement already satisfied: tzdata>=2022.1 in c:\\users\\new\\anaconda3\\lib\\site-packages (from pandas) (2023.3)\n",
      "Requirement already satisfied: contourpy>=1.0.1 in c:\\users\\new\\anaconda3\\lib\\site-packages (from matplotlib) (1.2.0)\n",
      "Requirement already satisfied: cycler>=0.10 in c:\\users\\new\\anaconda3\\lib\\site-packages (from matplotlib) (0.11.0)\n",
      "Requirement already satisfied: fonttools>=4.22.0 in c:\\users\\new\\anaconda3\\lib\\site-packages (from matplotlib) (4.25.0)\n",
      "Requirement already satisfied: kiwisolver>=1.0.1 in c:\\users\\new\\anaconda3\\lib\\site-packages (from matplotlib) (1.4.4)\n",
      "Requirement already satisfied: packaging>=20.0 in c:\\users\\new\\appdata\\roaming\\python\\python311\\site-packages (from matplotlib) (23.1)\n",
      "Requirement already satisfied: pillow>=6.2.0 in c:\\users\\new\\appdata\\roaming\\python\\python311\\site-packages (from matplotlib) (10.2.0)\n",
      "Requirement already satisfied: pyparsing>=2.3.1 in c:\\users\\new\\appdata\\roaming\\python\\python311\\site-packages (from matplotlib) (3.1.1)\n",
      "Requirement already satisfied: six>=1.5 in c:\\users\\new\\appdata\\roaming\\python\\python311\\site-packages (from python-dateutil>=2.8.2->pandas) (1.16.0)\n"
     ]
    },
    {
     "name": "stderr",
     "output_type": "stream",
     "text": [
      "\n",
      "[notice] A new release of pip is available: 24.0 -> 24.1.1\n",
      "[notice] To update, run: python.exe -m pip install --upgrade pip\n"
     ]
    }
   ],
   "source": [
    "!pip install requests beautifulsoup4 pandas matplotlib seaborn\n"
   ]
  },
  {
   "cell_type": "code",
   "execution_count": 5,
   "id": "47174aad-9083-4a99-b79d-fb8d1c20bdbd",
   "metadata": {},
   "outputs": [
    {
     "name": "stdout",
     "output_type": "stream",
     "text": [
      "Requirement already satisfied: selenium in c:\\users\\new\\anaconda3\\lib\\site-packages (4.22.0)\n",
      "Requirement already satisfied: urllib3<3,>=1.26 in c:\\users\\new\\appdata\\roaming\\python\\python311\\site-packages (from urllib3[socks]<3,>=1.26->selenium) (2.0.4)\n",
      "Requirement already satisfied: trio~=0.17 in c:\\users\\new\\anaconda3\\lib\\site-packages (from selenium) (0.25.1)\n",
      "Requirement already satisfied: trio-websocket~=0.9 in c:\\users\\new\\anaconda3\\lib\\site-packages (from selenium) (0.11.1)\n",
      "Requirement already satisfied: certifi>=2021.10.8 in c:\\users\\new\\appdata\\roaming\\python\\python311\\site-packages (from selenium) (2023.7.22)\n",
      "Requirement already satisfied: typing_extensions>=4.9.0 in c:\\users\\new\\anaconda3\\lib\\site-packages (from selenium) (4.12.2)\n",
      "Requirement already satisfied: websocket-client>=1.8.0 in c:\\users\\new\\anaconda3\\lib\\site-packages (from selenium) (1.8.0)\n",
      "Collecting attrs>=23.2.0 (from trio~=0.17->selenium)\n",
      "  Using cached attrs-23.2.0-py3-none-any.whl.metadata (9.5 kB)\n",
      "Requirement already satisfied: sortedcontainers in c:\\users\\new\\anaconda3\\lib\\site-packages (from trio~=0.17->selenium) (2.4.0)\n",
      "Requirement already satisfied: idna in c:\\users\\new\\appdata\\roaming\\python\\python311\\site-packages (from trio~=0.17->selenium) (3.4)\n",
      "Requirement already satisfied: outcome in c:\\users\\new\\anaconda3\\lib\\site-packages (from trio~=0.17->selenium) (1.3.0.post0)\n",
      "Requirement already satisfied: sniffio>=1.3.0 in c:\\users\\new\\anaconda3\\lib\\site-packages (from trio~=0.17->selenium) (1.3.0)\n",
      "Requirement already satisfied: cffi>=1.14 in c:\\users\\new\\appdata\\roaming\\python\\python311\\site-packages (from trio~=0.17->selenium) (1.15.1)\n",
      "Requirement already satisfied: wsproto>=0.14 in c:\\users\\new\\anaconda3\\lib\\site-packages (from trio-websocket~=0.9->selenium) (1.2.0)\n",
      "Requirement already satisfied: pysocks!=1.5.7,<2.0,>=1.5.6 in c:\\users\\new\\anaconda3\\lib\\site-packages (from urllib3[socks]<3,>=1.26->selenium) (1.7.1)\n",
      "Requirement already satisfied: pycparser in c:\\users\\new\\appdata\\roaming\\python\\python311\\site-packages (from cffi>=1.14->trio~=0.17->selenium) (2.21)\n",
      "Requirement already satisfied: h11<1,>=0.9.0 in c:\\users\\new\\anaconda3\\lib\\site-packages (from wsproto>=0.14->trio-websocket~=0.9->selenium) (0.14.0)\n",
      "Using cached attrs-23.2.0-py3-none-any.whl (60 kB)\n",
      "Installing collected packages: attrs\n",
      "  Attempting uninstall: attrs\n",
      "    Found existing installation: attrs 23.1.0\n",
      "    Uninstalling attrs-23.1.0:\n",
      "      Successfully uninstalled attrs-23.1.0\n",
      "Successfully installed attrs-23.2.0\n"
     ]
    },
    {
     "name": "stderr",
     "output_type": "stream",
     "text": [
      "\n",
      "[notice] A new release of pip is available: 24.0 -> 24.1.1\n",
      "[notice] To update, run: python.exe -m pip install --upgrade pip\n"
     ]
    }
   ],
   "source": [
    "!pip install selenium\n"
   ]
  },
  {
   "cell_type": "code",
   "execution_count": 10,
   "id": "eba4e482-74fe-4c7b-acda-88a9426d9d3e",
   "metadata": {},
   "outputs": [],
   "source": [
    "from bs4 import BeautifulSoup\n",
    "import requests"
   ]
  },
  {
   "cell_type": "code",
   "execution_count": 12,
   "id": "555e4155-ba6f-4242-83e4-7935adcf026a",
   "metadata": {},
   "outputs": [],
   "source": [
    "url = 'https://results.eci.gov.in/PcResultGenJune2024/index.htm#'\n",
    "\n",
    "page=requests.get(url)\n",
    "\n",
    "soup=BeautifulSoup(page.text,'html')"
   ]
  },
  {
   "cell_type": "code",
   "execution_count": 13,
   "id": "afc424f1-89c4-46cc-ae65-09a685b2c9f0",
   "metadata": {},
   "outputs": [
    {
     "name": "stdout",
     "output_type": "stream",
     "text": [
      "<!DOCTYPE html>\n",
      "<html lang=\"en\">\n",
      "<head>\n",
      "<!-- Required meta tags -->\n",
      "<meta charset=\"utf-8\"/>\n",
      "<meta content=\"width=device-width, initial-scale=1\" name=\"viewport\"/>\n",
      "<meta content=\"text/html; charset=utf-8\" http-equiv=\"Content-Type\"/>\n",
      "<meta content=\"IE=7\" http-equiv=\"X-UA-Compatible\"/>\n",
      "<meta content=\"no-cache, no-store, must-revalidate\" http-equiv=\"Cache-Control\"/>\n",
      "<meta content=\"no-cache\" http-equiv=\"Pragma\"/>\n",
      "<meta content=\"0\" http-equiv=\"Expires\"/>\n",
      "<meta content=\"300\" http-equiv=\"refresh\"/>\n",
      "<!-- Bootstrap CSS -->\n",
      "<link href=\"css/bootstrap.min.css\" rel=\"stylesheet\"/>\n",
      "<link href=\"css/custom.css\" rel=\"stylesheet\"/>\n",
      "<link href=\"css/responsive.css\" rel=\"stylesheet\"/>\n",
      "<link href=\"css/font.css\" rel=\"stylesheet\"/>\n",
      "<link href=\"img/icons/favicon.ico\" rel=\"shortcut icon\" type=\"image/x-icon\"/>\n",
      "<title>Election Commission of India</title>\n",
      "<style type=\"text/css\">\n",
      "</style>\n",
      "<script>!function(a){var e=\"https://s.go-mpulse.net/boomerang/\",t=\"addEventListener\";if(\"False\"==\"True\")a.BOOMR_config=a.BOOMR_config||{},a.BOOMR_config.PageParams=a.BOOMR_config.PageParams||{},a.BOOMR_config.PageParams.pci=!0,e=\"https://s2.go-mpulse.net/boomerang/\";if(window.BOOMR_API_key=\"C8JDA-BHWH8-9MQ5M-HKZCP-GH7SB\",function(){function n(e){a.BOOMR_onload=e&&e.timeStamp||(new Date).getTime()}if(!a.BOOMR||!a.BOOMR.version&&!a.BOOMR.snippetExecuted){a.BOOMR=a.BOOMR||{},a.BOOMR.snippetExecuted=!0;var i,_,o,r=document.createElement(\"iframe\");if(a[t])a[t](\"load\",n,!1);else if(a.attachEvent)a.attachEvent(\"onload\",n);r.src=\"javascript:void(0)\",r.title=\"\",r.role=\"presentation\",(r.frameElement||r).style.cssText=\"width:0;height:0;border:0;display:none;\",o=document.getElementsByTagName(\"script\")[0],o.parentNode.insertBefore(r,o);try{_=r.contentWindow.document}catch(O){i=document.domain,r.src=\"javascript:var d=document.open();d.domain='\"+i+\"';void(0);\",_=r.contentWindow.document}_.open()._l=function(){var a=this.createElement(\"script\");if(i)this.domain=i;a.id=\"boomr-if-as\",a.src=e+\"C8JDA-BHWH8-9MQ5M-HKZCP-GH7SB\",BOOMR_lstart=(new Date).getTime(),this.body.appendChild(a)},_.write(\"<bo\"+'dy onload=\"document._l();\">'),_.close()}}(),\"\".length>0)if(a&&\"performance\"in a&&a.performance&&\"function\"==typeof a.performance.setResourceTimingBufferSize)a.performance.setResourceTimingBufferSize();!function(){if(BOOMR=a.BOOMR||{},BOOMR.plugins=BOOMR.plugins||{},!BOOMR.plugins.AK){var e=\"\"==\"true\"?1:0,t=\"\",n=\"onqshkgklcqcwzt7zxza-f-89aec5a2b-clientnsv4-s.akamaihd.net\",i=\"false\"==\"true\"?2:1,_={\"ak.v\":\"37\",\"ak.cp\":\"1109753\",\"ak.ai\":parseInt(\"537121\",10),\"ak.ol\":\"0\",\"ak.cr\":310,\"ak.ipv\":4,\"ak.proto\":\"http/1.1\",\"ak.rid\":\"2fc166e\",\"ak.r\":30882,\"ak.a2\":e,\"ak.m\":\"b\",\"ak.n\":\"ff\",\"ak.bpcip\":\"115.97.35.0\",\"ak.cport\":49384,\"ak.gh\":\"202.88.160.39\",\"ak.quicv\":\"\",\"ak.tlsv\":\"tls1.3\",\"ak.0rtt\":\"\",\"ak.csrc\":\"-\",\"ak.acc\":\"reno\",\"ak.t\":\"1719651826\",\"ak.ak\":\"hOBiQwZUYzCg5VSAfCLimQ==GHlct5kUFotIV0m5HDir9FTYJ/alCG1IeqtY4YblS/yT+oncaXvj9M0LYx7vJrleI+cHZ/bNYNKPHOUlmwY1GAF9gT2vDDeNhbjVuLi5iNFcvnbRNWDC0mzwejgrpjI/IDo073UPfEVqAm49kJIromjH2XzHk6QBXFM+F+9eqGY7k0f2ZfIgSW0plkNb4mAHVoqQwQFJr8gT9agZ/FHnu2csnIBsKQ9PccQR1kKdZWu3zLc3hIZGqigENGruPBQRUbiI9Iz/JFsZWqxEPS9QqiknOInoPYJP1iPDfKpVhd/MGqeQVYSLm3o4AG5vI3GSTN7GAeaZcyFRSVoKyWExv6M/3V5iT/C0h4zEIEhsjam6ZPt75pYhZbB/RSfSDeO8g0Dmuc9HmUSAFP1V/g+1pkKMwOCSqBzfi8cw6Qts/BQ=\",\"ak.pv\":\"86\",\"ak.dpoabenc\":\"\",\"ak.tf\":i};if(\"\"!==t)_[\"ak.ruds\"]=t;var o={i:!1,av:function(e){var t=\"http.initiator\";if(e&&(!e[t]||\"spa_hard\"===e[t]))_[\"ak.feo\"]=void 0!==a.aFeoApplied?1:0,BOOMR.addVar(_)},rv:function(){var a=[\"ak.bpcip\",\"ak.cport\",\"ak.cr\",\"ak.csrc\",\"ak.gh\",\"ak.ipv\",\"ak.m\",\"ak.n\",\"ak.ol\",\"ak.proto\",\"ak.quicv\",\"ak.tlsv\",\"ak.0rtt\",\"ak.r\",\"ak.acc\",\"ak.t\",\"ak.tf\"];BOOMR.removeVar(a)}};BOOMR.plugins.AK={akVars:_,akDNSPreFetchDomain:n,init:function(){if(!o.i){var a=BOOMR.subscribe;a(\"before_beacon\",o.av,null,null),a(\"onbeacon\",o.rv,null,null),o.i=!0}return this},is_complete:function(){return!0}}}}()}(window);</script></head>\n",
      "<body>\n",
      "<header class=\"header\">\n",
      "<div class=\"logo-search\">\n",
      "<div class=\"mob-btn\"><img alt=\"\" src=\"img/icons/menu.png\"/></div>\n",
      "<div class=\"logo\"><a href=\"index.htm\"><img alt=\"\" src=\"img/eci-logo.png\"/></a></div>\n",
      "<div class=\"lft-menu\">\n",
      "<ul>\n",
      "<li><a href=\"index.htm\"><span><img alt=\"\" src=\"img/icons/home.png\"/></span> Home</a></li>\n",
      "<li><a href=\"hi/index.htm\">Hindi <span><img alt=\"\" src=\"img/icons/language.png\"/></span></a></li>\n",
      "<!-- <li><a href=''>Search <span><img src='img/icons/search.png' alt=''></span></a></li> -->\n",
      "<li><a href=\"\" onclick=\"window.location.href=window.location.href\">Refresh <span><img alt=\"\" src=\"img/icons/refresh.png\"/></span></a></li>\n",
      "<li><img alt=\"\" src=\"img/deshgarv-logo.png\"/></li>\n",
      "</ul>\n",
      "</div>\n",
      "</div>\n",
      "</header>\n",
      "<div class=\"dis-info\">\n",
      "<div class=\"container-fluid\">\n",
      "<div class=\"dis-flex\">\n",
      "<h6 class=\"mb-0 mx-2\"><span> </span> Disclaimer:</h6>\n",
      "<p class=\"mb-0\"> ECI is displaying the information as being filled in the system by the Returning Officers from their respective Counting Centres.The final data for each AC/PC will be shared in Form-20.</p>\n",
      "</div>\n",
      "</div>\n",
      "</div><!-- End of dis-info Div -->\n",
      "<main class=\"inner-content\">\n",
      "<!--  <div class=\"page-title\"> -->\n",
      "<!-- <h1>General Election to Parliamentary Constituencies: Trends & Results June-2024</h1> -->\n",
      "<!-- <h2>Trends & Results June-2024</h2> -->\n",
      "<!-- <h3>Results Trends Starts From 8Am on 8th Nov...</h3>  style=\"margin-top: -4% !important;  z-index: -99 !important;\"-->\n",
      "<!-- </div> -->\n",
      "<div class=\"container-fluid\">\n",
      "<section class=\"my-3\">\n",
      "<div class=\"container-fluid\">\n",
      "<div class=\"custom-tabs\">\n",
      "<ul>\n",
      "<li><a class=\"btn btn-outline-danger active\" href=\"#\">Parliamentary Constituency General</a></li>\n",
      "<li><a class=\"btn btn-outline-danger\" href=\"https://results.eci.gov.in/AcResultGenJune2024/index.htm\" target=\"_blank\">Assembly Constituency General</a></li>\n",
      "<li><a class=\"btn btn-outline-danger\" href=\"https://results.eci.gov.in/AcResultByeJune2024/index.htm\" target=\"_blank\">Assembly Constituency Bye</a></li>\n",
      "</ul>\n",
      "</div>\n",
      "<div class=\"row\">\n",
      "<div class=\"col-12\">\n",
      "<div class=\"card custom-card shadow-sm\">\n",
      "<div class=\"card-header custom-header\">\n",
      "<h5 class=\"\">General Election to Parliamentary Constituencies: Trends &amp; Results June-2024</h5>\n",
      "<div class=\"flter-btns\"> <select id=\"ctl00_ContentPlaceHolder1_Result1_ddlState\" name=\"state\" onchange=\"return GetResult(this)\"> <option value=\"\"> Select State Wise </option><option value=\"U01\">Andaman &amp; Nicobar Islands</option><option value=\"S01\">Andhra Pradesh</option><option value=\"S02\">Arunachal Pradesh</option><option value=\"S03\">Assam</option><option value=\"S04\">Bihar</option><option value=\"U02\">Chandigarh</option><option value=\"S26\">Chhattisgarh</option><option value=\"U03\">Dadra &amp; Nagar Haveli and Daman &amp; Diu</option><option value=\"S05\">Goa</option><option value=\"S06\">Gujarat</option><option value=\"S07\">Haryana</option><option value=\"S08\">Himachal Pradesh</option><option value=\"U08\">Jammu and Kashmir</option><option value=\"S27\">Jharkhand</option><option value=\"S10\">Karnataka</option><option value=\"S11\">Kerala</option><option value=\"U09\">Ladakh</option><option value=\"U06\">Lakshadweep</option><option value=\"S12\">Madhya Pradesh</option><option value=\"S13\">Maharashtra</option><option value=\"S14\">Manipur</option><option value=\"S15\">Meghalaya</option><option value=\"S16\">Mizoram</option><option value=\"S17\">Nagaland</option><option value=\"U05\">NCT OF Delhi</option><option value=\"S18\">Odisha</option><option value=\"U07\">Puducherry</option><option value=\"S19\">Punjab</option><option value=\"S20\">Rajasthan</option><option value=\"S21\">Sikkim</option><option value=\"S22\">Tamil Nadu</option><option value=\"S29\">Telangana</option><option value=\"S23\">Tripura</option><option value=\"S24\">Uttar Pradesh</option><option value=\"S28\">Uttarakhand</option><option value=\"S25\">West Bengal</option></select> </div>\n",
      "</div>\n",
      "<div class=\"card-body\">\n",
      "<div class=\"chart-parent\">\n",
      "<div class=\"chart-wrap\">\n",
      "<canvas id=\"donutChart\" style=\"max-width: 750px; width: 100%; max-height: 543px; height: 100%;\"></canvas>\n",
      "</div><!-- End of chart wrap Div-->\n",
      "<div class=\"parttotal\">543/543</div>\n",
      "</div>\n",
      "</div>\n",
      "</div>\n",
      "</div>\n",
      "<div class=\"col-md-6 col-12\">\n",
      "<div class=\"card custom-card shadow-sm card-height\">\n",
      "<div class=\"card-header head-flex\">\n",
      "<div>Party Wise Vote Share</div>\n",
      "<!--  <div class=\"zom-icon\"><a href=\"index_new.htm\"><img src=\"img/icons/zoom.png\" alt=\"\"></a></div> -->\n",
      "</div>\n",
      "<div class=\"card-body\">\n",
      "<div class=\"chart-wrap\">\n",
      "<canvas id=\"piChart\" style=\"max-width: 750px; width: 100%; max-height: 750px; height: 100%;\"></canvas>\n",
      "</div><!-- End of chart wrap Div-->\n",
      "</div>\n",
      "</div>\n",
      "</div>\n",
      "<div class=\"col-md-6 col-12\">\n",
      "<div class=\"card custom-card shadow-sm\">\n",
      "<div class=\"card-header\">Party Wise Results Status</div>\n",
      "<div class=\"card-body\">\n",
      "<div class=\"parent-wrap cardTble\">\n",
      "<div class=\"child-scroll\">\n",
      "<div class=\"rslt-table table-responsive\">\n",
      "<table class=\"table\">\n",
      "<thead>\n",
      "<tr>\n",
      "<th style=\"text-align: left;\">Party</th>\n",
      "<th style=\"text-align:right\">Won</th>\n",
      "<th style=\"text-align:right\">Leading</th>\n",
      "<th style=\"text-align:right\">Total</th>\n",
      "</tr>\n",
      "</thead>\n",
      "<tbody>\n",
      "<tr class=\"tr\">\n",
      "<td style=\"text-align:left\">Bharatiya Janata Party - BJP</td>\n",
      "<td style=\"text-align:right\">\n",
      "<a href=\"partywisewinresultState-369.htm\">240</a>\n",
      "</td>\n",
      "<td style=\"text-align:right\">\n",
      "                                                                                        0\n",
      "                                                                                    </td>\n",
      "<td style=\"text-align:right\">240</td>\n",
      "</tr>\n",
      "<tr class=\"tr\">\n",
      "<td style=\"text-align:left\">Indian National Congress - INC</td>\n",
      "<td style=\"text-align:right\">\n",
      "<a href=\"partywisewinresultState-742.htm\">99</a>\n",
      "</td>\n",
      "<td style=\"text-align:right\">\n",
      "                                                                                        0\n",
      "                                                                                    </td>\n",
      "<td style=\"text-align:right\">99</td>\n",
      "</tr>\n",
      "<tr class=\"tr\">\n",
      "<td style=\"text-align:left\">Samajwadi Party - SP</td>\n",
      "<td style=\"text-align:right\">\n",
      "<a href=\"partywisewinresultState-1680.htm\">37</a>\n",
      "</td>\n",
      "<td style=\"text-align:right\">\n",
      "                                                                                        0\n",
      "                                                                                    </td>\n",
      "<td style=\"text-align:right\">37</td>\n",
      "</tr>\n",
      "<tr class=\"tr\">\n",
      "<td style=\"text-align:left\">All India Trinamool Congress - AITC</td>\n",
      "<td style=\"text-align:right\">\n",
      "<a href=\"partywisewinresultState-140.htm\">29</a>\n",
      "</td>\n",
      "<td style=\"text-align:right\">\n",
      "                                                                                        0\n",
      "                                                                                    </td>\n",
      "<td style=\"text-align:right\">29</td>\n",
      "</tr>\n",
      "<tr class=\"tr\">\n",
      "<td style=\"text-align:left\">Dravida Munnetra Kazhagam - DMK</td>\n",
      "<td style=\"text-align:right\">\n",
      "<a href=\"partywisewinresultState-582.htm\">22</a>\n",
      "</td>\n",
      "<td style=\"text-align:right\">\n",
      "                                                                                        0\n",
      "                                                                                    </td>\n",
      "<td style=\"text-align:right\">22</td>\n",
      "</tr>\n",
      "<tr class=\"tr\">\n",
      "<td style=\"text-align:left\">Telugu Desam - TDP</td>\n",
      "<td style=\"text-align:right\">\n",
      "<a href=\"partywisewinresultState-1745.htm\">16</a>\n",
      "</td>\n",
      "<td style=\"text-align:right\">\n",
      "                                                                                        0\n",
      "                                                                                    </td>\n",
      "<td style=\"text-align:right\">16</td>\n",
      "</tr>\n",
      "<tr class=\"tr\">\n",
      "<td style=\"text-align:left\">Janata Dal  (United) - JD(U)</td>\n",
      "<td style=\"text-align:right\">\n",
      "<a href=\"partywisewinresultState-805.htm\">12</a>\n",
      "</td>\n",
      "<td style=\"text-align:right\">\n",
      "                                                                                        0\n",
      "                                                                                    </td>\n",
      "<td style=\"text-align:right\">12</td>\n",
      "</tr>\n",
      "<tr class=\"tr\">\n",
      "<td style=\"text-align:left\">Shiv Sena (Uddhav Balasaheb Thackrey) - SHSUBT</td>\n",
      "<td style=\"text-align:right\">\n",
      "<a href=\"partywisewinresultState-3369.htm\">9</a>\n",
      "</td>\n",
      "<td style=\"text-align:right\">\n",
      "                                                                                        0\n",
      "                                                                                    </td>\n",
      "<td style=\"text-align:right\">9</td>\n",
      "</tr>\n",
      "<tr class=\"tr\">\n",
      "<td style=\"text-align:left\">Nationalist Congress Party – Sharadchandra Pawar - NCPSP</td>\n",
      "<td style=\"text-align:right\">\n",
      "<a href=\"partywisewinresultState-3620.htm\">8</a>\n",
      "</td>\n",
      "<td style=\"text-align:right\">\n",
      "                                                                                        0\n",
      "                                                                                    </td>\n",
      "<td style=\"text-align:right\">8</td>\n",
      "</tr>\n",
      "<tr class=\"tr\">\n",
      "<td style=\"text-align:left\">Shiv Sena - SHS</td>\n",
      "<td style=\"text-align:right\">\n",
      "<a href=\"partywisewinresultState-3529.htm\">7</a>\n",
      "</td>\n",
      "<td style=\"text-align:right\">\n",
      "                                                                                        0\n",
      "                                                                                    </td>\n",
      "<td style=\"text-align:right\">7</td>\n",
      "</tr>\n",
      "<tr class=\"tr\">\n",
      "<td style=\"text-align:left\">Lok Janshakti Party(Ram Vilas) - LJPRV</td>\n",
      "<td style=\"text-align:right\">\n",
      "<a href=\"partywisewinresultState-3165.htm\">5</a>\n",
      "</td>\n",
      "<td style=\"text-align:right\">\n",
      "                                                                                        0\n",
      "                                                                                    </td>\n",
      "<td style=\"text-align:right\">5</td>\n",
      "</tr>\n",
      "<tr class=\"tr\">\n",
      "<td style=\"text-align:left\">Yuvajana Sramika Rythu Congress Party - YSRCP</td>\n",
      "<td style=\"text-align:right\">\n",
      "<a href=\"partywisewinresultState-1888.htm\">4</a>\n",
      "</td>\n",
      "<td style=\"text-align:right\">\n",
      "                                                                                        0\n",
      "                                                                                    </td>\n",
      "<td style=\"text-align:right\">4</td>\n",
      "</tr>\n",
      "<tr class=\"tr\">\n",
      "<td style=\"text-align:left\">Rashtriya Janata Dal - RJD</td>\n",
      "<td style=\"text-align:right\">\n",
      "<a href=\"partywisewinresultState-1420.htm\">4</a>\n",
      "</td>\n",
      "<td style=\"text-align:right\">\n",
      "                                                                                        0\n",
      "                                                                                    </td>\n",
      "<td style=\"text-align:right\">4</td>\n",
      "</tr>\n",
      "<tr class=\"tr\">\n",
      "<td style=\"text-align:left\">Communist Party of India  (Marxist) - CPI(M)</td>\n",
      "<td style=\"text-align:right\">\n",
      "<a href=\"partywisewinresultState-547.htm\">4</a>\n",
      "</td>\n",
      "<td style=\"text-align:right\">\n",
      "                                                                                        0\n",
      "                                                                                    </td>\n",
      "<td style=\"text-align:right\">4</td>\n",
      "</tr>\n",
      "<tr class=\"tr\">\n",
      "<td style=\"text-align:left\">Indian Union Muslim League - IUML</td>\n",
      "<td style=\"text-align:right\">\n",
      "<a href=\"partywisewinresultState-772.htm\">3</a>\n",
      "</td>\n",
      "<td style=\"text-align:right\">\n",
      "                                                                                        0\n",
      "                                                                                    </td>\n",
      "<td style=\"text-align:right\">3</td>\n",
      "</tr>\n",
      "<tr class=\"tr\">\n",
      "<td style=\"text-align:left\">Aam Aadmi Party - AAAP</td>\n",
      "<td style=\"text-align:right\">\n",
      "<a href=\"partywisewinresultState-1.htm\">3</a>\n",
      "</td>\n",
      "<td style=\"text-align:right\">\n",
      "                                                                                        0\n",
      "                                                                                    </td>\n",
      "<td style=\"text-align:right\">3</td>\n",
      "</tr>\n",
      "<tr class=\"tr\">\n",
      "<td style=\"text-align:left\">Jharkhand Mukti Morcha - JMM</td>\n",
      "<td style=\"text-align:right\">\n",
      "<a href=\"partywisewinresultState-852.htm\">3</a>\n",
      "</td>\n",
      "<td style=\"text-align:right\">\n",
      "                                                                                        0\n",
      "                                                                                    </td>\n",
      "<td style=\"text-align:right\">3</td>\n",
      "</tr>\n",
      "<tr class=\"tr\">\n",
      "<td style=\"text-align:left\">Janasena Party - JnP</td>\n",
      "<td style=\"text-align:right\">\n",
      "<a href=\"partywisewinresultState-860.htm\">2</a>\n",
      "</td>\n",
      "<td style=\"text-align:right\">\n",
      "                                                                                        0\n",
      "                                                                                    </td>\n",
      "<td style=\"text-align:right\">2</td>\n",
      "</tr>\n",
      "<tr class=\"tr\">\n",
      "<td style=\"text-align:left\">Communist Party of India  (Marxist-Leninist)  (Liberation) - CPI(ML)(L)</td>\n",
      "<td style=\"text-align:right\">\n",
      "<a href=\"partywisewinresultState-545.htm\">2</a>\n",
      "</td>\n",
      "<td style=\"text-align:right\">\n",
      "                                                                                        0\n",
      "                                                                                    </td>\n",
      "<td style=\"text-align:right\">2</td>\n",
      "</tr>\n",
      "<tr class=\"tr\">\n",
      "<td style=\"text-align:left\">Janata Dal  (Secular) - JD(S)</td>\n",
      "<td style=\"text-align:right\">\n",
      "<a href=\"partywisewinresultState-804.htm\">2</a>\n",
      "</td>\n",
      "<td style=\"text-align:right\">\n",
      "                                                                                        0\n",
      "                                                                                    </td>\n",
      "<td style=\"text-align:right\">2</td>\n",
      "</tr>\n",
      "<tr class=\"tr\">\n",
      "<td style=\"text-align:left\">Viduthalai Chiruthaigal Katchi - VCK</td>\n",
      "<td style=\"text-align:right\">\n",
      "<a href=\"partywisewinresultState-1847.htm\">2</a>\n",
      "</td>\n",
      "<td style=\"text-align:right\">\n",
      "                                                                                        0\n",
      "                                                                                    </td>\n",
      "<td style=\"text-align:right\">2</td>\n",
      "</tr>\n",
      "<tr class=\"tr\">\n",
      "<td style=\"text-align:left\">Communist Party of India - CPI</td>\n",
      "<td style=\"text-align:right\">\n",
      "<a href=\"partywisewinresultState-544.htm\">2</a>\n",
      "</td>\n",
      "<td style=\"text-align:right\">\n",
      "                                                                                        0\n",
      "                                                                                    </td>\n",
      "<td style=\"text-align:right\">2</td>\n",
      "</tr>\n",
      "<tr class=\"tr\">\n",
      "<td style=\"text-align:left\">Rashtriya Lok Dal - RLD</td>\n",
      "<td style=\"text-align:right\">\n",
      "<a href=\"partywisewinresultState-1458.htm\">2</a>\n",
      "</td>\n",
      "<td style=\"text-align:right\">\n",
      "                                                                                        0\n",
      "                                                                                    </td>\n",
      "<td style=\"text-align:right\">2</td>\n",
      "</tr>\n",
      "<tr class=\"tr\">\n",
      "<td style=\"text-align:left\">Jammu &amp; Kashmir National Conference - JKN</td>\n",
      "<td style=\"text-align:right\">\n",
      "<a href=\"partywisewinresultState-834.htm\">2</a>\n",
      "</td>\n",
      "<td style=\"text-align:right\">\n",
      "                                                                                        0\n",
      "                                                                                    </td>\n",
      "<td style=\"text-align:right\">2</td>\n",
      "</tr>\n",
      "<tr class=\"tr\">\n",
      "<td style=\"text-align:left\">United People’s Party, Liberal - UPPL</td>\n",
      "<td style=\"text-align:right\">\n",
      "<a href=\"partywisewinresultState-1998.htm\">1</a>\n",
      "</td>\n",
      "<td style=\"text-align:right\">\n",
      "                                                                                        0\n",
      "                                                                                    </td>\n",
      "<td style=\"text-align:right\">1</td>\n",
      "</tr>\n",
      "<tr class=\"tr\">\n",
      "<td style=\"text-align:left\">Asom Gana Parishad - AGP</td>\n",
      "<td style=\"text-align:right\">\n",
      "<a href=\"partywisewinresultState-83.htm\">1</a>\n",
      "</td>\n",
      "<td style=\"text-align:right\">\n",
      "                                                                                        0\n",
      "                                                                                    </td>\n",
      "<td style=\"text-align:right\">1</td>\n",
      "</tr>\n",
      "<tr class=\"tr\">\n",
      "<td style=\"text-align:left\">Hindustani Awam Morcha (Secular) - HAMS</td>\n",
      "<td style=\"text-align:right\">\n",
      "<a href=\"partywisewinresultState-664.htm\">1</a>\n",
      "</td>\n",
      "<td style=\"text-align:right\">\n",
      "                                                                                        0\n",
      "                                                                                    </td>\n",
      "<td style=\"text-align:right\">1</td>\n",
      "</tr>\n",
      "<tr class=\"tr\">\n",
      "<td style=\"text-align:left\">Kerala Congress - KEC</td>\n",
      "<td style=\"text-align:right\">\n",
      "<a href=\"partywisewinresultState-911.htm\">1</a>\n",
      "</td>\n",
      "<td style=\"text-align:right\">\n",
      "                                                                                        0\n",
      "                                                                                    </td>\n",
      "<td style=\"text-align:right\">1</td>\n",
      "</tr>\n",
      "<tr class=\"tr\">\n",
      "<td style=\"text-align:left\">Revolutionary Socialist Party - RSP</td>\n",
      "<td style=\"text-align:right\">\n",
      "<a href=\"partywisewinresultState-1534.htm\">1</a>\n",
      "</td>\n",
      "<td style=\"text-align:right\">\n",
      "                                                                                        0\n",
      "                                                                                    </td>\n",
      "<td style=\"text-align:right\">1</td>\n",
      "</tr>\n",
      "<tr class=\"tr\">\n",
      "<td style=\"text-align:left\">Nationalist Congress Party - NCP</td>\n",
      "<td style=\"text-align:right\">\n",
      "<a href=\"partywisewinresultState-1142.htm\">1</a>\n",
      "</td>\n",
      "<td style=\"text-align:right\">\n",
      "                                                                                        0\n",
      "                                                                                    </td>\n",
      "<td style=\"text-align:right\">1</td>\n",
      "</tr>\n",
      "<tr class=\"tr\">\n",
      "<td style=\"text-align:left\">Voice of the People Party - VOTPP</td>\n",
      "<td style=\"text-align:right\">\n",
      "<a href=\"partywisewinresultState-3388.htm\">1</a>\n",
      "</td>\n",
      "<td style=\"text-align:right\">\n",
      "                                                                                        0\n",
      "                                                                                    </td>\n",
      "<td style=\"text-align:right\">1</td>\n",
      "</tr>\n",
      "<tr class=\"tr\">\n",
      "<td style=\"text-align:left\">Zoram People’s Movement - ZPM</td>\n",
      "<td style=\"text-align:right\">\n",
      "<a href=\"partywisewinresultState-2757.htm\">1</a>\n",
      "</td>\n",
      "<td style=\"text-align:right\">\n",
      "                                                                                        0\n",
      "                                                                                    </td>\n",
      "<td style=\"text-align:right\">1</td>\n",
      "</tr>\n",
      "<tr class=\"tr\">\n",
      "<td style=\"text-align:left\">Shiromani Akali Dal - SAD</td>\n",
      "<td style=\"text-align:right\">\n",
      "<a href=\"partywisewinresultState-1584.htm\">1</a>\n",
      "</td>\n",
      "<td style=\"text-align:right\">\n",
      "                                                                                        0\n",
      "                                                                                    </td>\n",
      "<td style=\"text-align:right\">1</td>\n",
      "</tr>\n",
      "<tr class=\"tr\">\n",
      "<td style=\"text-align:left\">Rashtriya Loktantrik Party - RLTP</td>\n",
      "<td style=\"text-align:right\">\n",
      "<a href=\"partywisewinresultState-2484.htm\">1</a>\n",
      "</td>\n",
      "<td style=\"text-align:right\">\n",
      "                                                                                        0\n",
      "                                                                                    </td>\n",
      "<td style=\"text-align:right\">1</td>\n",
      "</tr>\n",
      "<tr class=\"tr\">\n",
      "<td style=\"text-align:left\">Bharat Adivasi Party - BHRTADVSIP</td>\n",
      "<td style=\"text-align:right\">\n",
      "<a href=\"partywisewinresultState-3482.htm\">1</a>\n",
      "</td>\n",
      "<td style=\"text-align:right\">\n",
      "                                                                                        0\n",
      "                                                                                    </td>\n",
      "<td style=\"text-align:right\">1</td>\n",
      "</tr>\n",
      "<tr class=\"tr\">\n",
      "<td style=\"text-align:left\">Sikkim Krantikari Morcha - SKM</td>\n",
      "<td style=\"text-align:right\">\n",
      "<a href=\"partywisewinresultState-1658.htm\">1</a>\n",
      "</td>\n",
      "<td style=\"text-align:right\">\n",
      "                                                                                        0\n",
      "                                                                                    </td>\n",
      "<td style=\"text-align:right\">1</td>\n",
      "</tr>\n",
      "<tr class=\"tr\">\n",
      "<td style=\"text-align:left\">Marumalarchi Dravida Munnetra Kazhagam - MDMK</td>\n",
      "<td style=\"text-align:right\">\n",
      "<a href=\"partywisewinresultState-1046.htm\">1</a>\n",
      "</td>\n",
      "<td style=\"text-align:right\">\n",
      "                                                                                        0\n",
      "                                                                                    </td>\n",
      "<td style=\"text-align:right\">1</td>\n",
      "</tr>\n",
      "<tr class=\"tr\">\n",
      "<td style=\"text-align:left\">Aazad Samaj Party (Kanshi Ram) - ASPKR</td>\n",
      "<td style=\"text-align:right\">\n",
      "<a href=\"partywisewinresultState-2989.htm\">1</a>\n",
      "</td>\n",
      "<td style=\"text-align:right\">\n",
      "                                                                                        0\n",
      "                                                                                    </td>\n",
      "<td style=\"text-align:right\">1</td>\n",
      "</tr>\n",
      "<tr class=\"tr\">\n",
      "<td style=\"text-align:left\">Apna Dal (Soneylal) - ADAL</td>\n",
      "<td style=\"text-align:right\">\n",
      "<a href=\"partywisewinresultState-2070.htm\">1</a>\n",
      "</td>\n",
      "<td style=\"text-align:right\">\n",
      "                                                                                        0\n",
      "                                                                                    </td>\n",
      "<td style=\"text-align:right\">1</td>\n",
      "</tr>\n",
      "<tr class=\"tr\">\n",
      "<td style=\"text-align:left\">AJSU Party - AJSUP</td>\n",
      "<td style=\"text-align:right\">\n",
      "<a href=\"partywisewinresultState-160.htm\">1</a>\n",
      "</td>\n",
      "<td style=\"text-align:right\">\n",
      "                                                                                        0\n",
      "                                                                                    </td>\n",
      "<td style=\"text-align:right\">1</td>\n",
      "</tr>\n",
      "<tr class=\"tr\">\n",
      "<td style=\"text-align:left\">All India Majlis-E-Ittehadul Muslimeen - AIMIM</td>\n",
      "<td style=\"text-align:right\">\n",
      "<a href=\"partywisewinresultState-118.htm\">1</a>\n",
      "</td>\n",
      "<td style=\"text-align:right\">\n",
      "                                                                                        0\n",
      "                                                                                    </td>\n",
      "<td style=\"text-align:right\">1</td>\n",
      "</tr>\n",
      "<tr class=\"tr\">\n",
      "<td style=\"text-align:left\">Independent - IND</td>\n",
      "<td style=\"text-align:right\">\n",
      "<a href=\"partywisewinresultState-743.htm\">7</a>\n",
      "</td>\n",
      "<td style=\"text-align:right\">\n",
      "                                                                                        0\n",
      "                                                                                    </td>\n",
      "<td style=\"text-align:right\">7</td>\n",
      "</tr>\n",
      "</tbody>\n",
      "<tfoot>\n",
      "<tr>\n",
      "<th>Total</th>\n",
      "<th style=\"text-align:right\">543</th>\n",
      "<th style=\"text-align:right\">0</th>\n",
      "<th style=\"text-align:right\">543</th>\n",
      "</tr>\n",
      "</tfoot>\n",
      "</table>\n",
      "</div><!-- End rslt-table Div -->\n",
      "</div>\n",
      "</div>\n",
      "</div>\n",
      "</div>\n",
      "</div>\n",
      "</div><!-- End of row Div -->\n",
      "</div>\n",
      "</section>\n",
      "</div><!-- End of container-fluid Div -->\n",
      "</main>\n",
      "<footer class=\"footer\">\n",
      "<div class=\"foot-info\">\n",
      "<div class=\"container-fluid\">\n",
      "<div class=\"row\">\n",
      "<div class=\"col-md-6 col-12\">\n",
      "<h6 class=\"mb-1\">Download Voter helpline app to see results on mobile</h6>\n",
      "<div class=\"sm-text\">Last Updated at 08:55 am On 05/06/2024</div>\n",
      "</div>\n",
      "<div class=\"col-md-6 col-12\">\n",
      "<ul class=\"d-flex align-items-center items-end\">\n",
      "<li><a href=\"https://play.google.com/store/apps/details?id=com.eci.citizen\" target=\"_blank\"><img alt=\"\" src=\"img/icons/android.png\"/></a></li>\n",
      "<li><a href=\"https://apps.apple.com/in/app/voter-helpline/id1456535004\" target=\"_blank\"><img alt=\"\" src=\"img/icons/apple.png\"/></a></li>\n",
      "</ul>\n",
      "</div>\n",
      "</div>\n",
      "</div>\n",
      "</div>\n",
      "</footer>\n",
      "<!-- Optional JavaScript; choose one of the two! -->\n",
      "<script src=\"js/jquery-3.6.0.min.js\" type=\"text/javascript\"></script>\n",
      "<!-- Option 1: Bootstrap Bundle with Popper -->\n",
      "<script src=\"js/bootstrap.bundle.min.js\" type=\"text/javascript\"></script>\n",
      "<!-- Option 3: Custom jQuery Lab -->\n",
      "<script src=\"js/custom-jQuery.js\" type=\"text/javascript\"></script>\n",
      "<!-- Chart jQuery Lab -->\n",
      "<script src=\"js/chart.js\" type=\"text/javascript\"></script>\n",
      "<script type=\"text/javascript\">\n",
      "            function GetResult(ddstate) {\n",
      "                var statecode = ddstate.value;\n",
      "                if (statecode != 'Select State')\n",
      "                    location.href = 'partywiseresult-' + statecode + '.htm';\n",
      "                else\n",
      "                    location.href = 'partywiseresult' + ddstate.options[1].value + '.htm';\n",
      "            } \n",
      "            function SetSelectedSate() {\n",
      "                var ddlState = document.getElementById('ctl00_ContentPlaceHolder1_Result1_ddlState');\n",
      "                var stateCode = '';\n",
      "                var queryString = location.search.substring(1);\n",
      "                if (queryString != null && queryString != '') {\n",
      "                    stateCode = queryString.split('=')[1];\n",
      "                }\n",
      "                if (ddlState != null)\n",
      "                    for (var index = 0; index < ddlState.options.length; index++) {\n",
      "                        if (ddlState.options[index].value == stateCode) {\n",
      "                            ddlState.options[index].selected = true;\n",
      "                        }\n",
      "                    }\n",
      "            }\n",
      "            onload = SetSelectedSate;\n",
      "\n",
      "        </script>\n",
      "<script type=\"text/javascript\">\n",
      "\n",
      "    // Doughnut Charts Starts Here\n",
      "    var xValues = ['BJP','INC','SP','AITC','DMK','TDP','JD(U)','SHSUBT','NCPSP','SHS','Others'];\n",
      "    var yValues = [240,99,37,29,22,16,12,9,8,7,64];\n",
      "    var barColors = ['#ff944d','#19AAED','#ff0000','#aebedf','#05F86E','#39AC57','#204795','#4FB825','#D781F9','#D2691E','#b3b3b3'];\n",
      "\n",
      "    /* var xValues = [\"AITC\", \"BJP\", \"HSPDP\", \"INC\", \"JD\", \"NOTA\", \"NPEP\", \"PDF\", \"UDP\", \"Other\"];\n",
      "    var yValues = [55, 49, 44, 24, 15, 55, 49, 44, 24, 15];\n",
      "    var barColors = [\n",
      "      \"#ff9f40\",\n",
      "      \"#ffcd56\",\n",
      "      \"#4bc0c0\",\n",
      "      \"#36a2eb\",\n",
      "      \"#9966ff\",\n",
      "      \"#aebedf\",\n",
      "      \"#ff6384\",\n",
      "      \"#fb9a74\",\n",
      "      \"#b5d36e\",\n",
      "      \"#e5aad4\"\n",
      "    ]; */\n",
      "\n",
      "    new Chart(\"donutChart\", {\n",
      "      type: \"doughnut\",\n",
      "      data: {\n",
      "        labels: xValues,\n",
      "        datasets: [{\n",
      "          backgroundColor: barColors,\n",
      "          data: yValues\n",
      "        }]\n",
      "      },\n",
      "      options: {\n",
      "        rotation: -90,\n",
      "        circumference: 180,\n",
      "        responsive: true,\n",
      "        plugins: {\n",
      "          legend: {\n",
      "            position: 'bottom',\n",
      "          },\n",
      "          title: {\n",
      "            display: true,\n",
      "            text: ''\n",
      "          }\n",
      "        }\n",
      "      },\n",
      "    });\n",
      "\n",
      "\n",
      "    // Pi Charts Starts Here\n",
      "     var xValues = ['AAAP{1.11%}','ADAL{0.13%}','ADMK{1.39%}','AGP{0.20%}','AIFB{0.04%}','AIMIM{0.22%}','AITC{4.37%}','AIUDF{0.10%}','AJSUP{0.07%}','BHRS{0.57%}','BJD{1.46%}','BJP{36.56%}','BOPF{0.12%}','BSP{2.04%}','CPI{0.49%}','CPI(M){1.76%}','CPI(ML)(L){0.27%}','DMDK{0.17%}','DMK{1.82%}','INC{21.19%}','INLD{0.04%}','IUML{0.27%}','JD(S){0.34%}','JD(U){1.25%}','JKN{0.18%}','JKNPPB{0.00%}','JKPDP{0.07%}','JMM{0.41%}','JNJP{0.02%}','KEC(M){0.04%}','LJPRV{0.44%}','MNF{0.02%}','NCP{0.32%}','NCPSP{0.92%}','NDPP{0.05%}','NOTA{0.99%}','NPEP{0.06%}','NPF{0.05%}','RJD{1.57%}','RLTP{0.09%}','RVLTGONP{0.01%}','SAD{0.28%}','SDF{0.01%}','SHS{1.15%}','SHSUBT{1.48%}','SKM{0.03%}','SP{4.58%}','TDP{1.98%}','UDP{0.01%}','UPPL{0.08%}','VOTPP{0.09%}','YSRCP{2.06%}','ZPM{0.03%}','Others{7.03%}',];\n",
      "    var yValues = [7147800,808245,8952587,1298707,289941,1400215,28213393,625954,458677,3657237,9413379,235973935,777570,13153818,3157184,11342553,1736771,1128616,11754710,136759064,226975,1716186,2173701,8039663,1147041,23268,435980,2652955,113827,277365,2810250,140264,2059179,5921162,350967,6372220,417930,299536,10107402,596955,64578,1814318,77171,7401447,9567779,164396,29549381,12775270,44563,488995,571078,13316039,208552,45386696,]; \n",
      "    var barColors = ['#0072B0','#8F5E1C','#A08547','#3B02C9','#ff3333','#00664d','#aebedf','#8AB3C5','#3A15F9','#F84996','#9547A2','#ff944d','#4D73AE','#000078','#e70d21','#FF1D15','#BA5860','#E6C018','#05F86E','#19AAED','#EA0D35','#006600','#02865A','#39AC57','#1094D3','#315478','#87C2B9','#337316','#00009C','#A209D6','#A2006D','#2E5694','#4bc0c0','#D781F9','#483D8B','#ff6384','#ffb84d','#306D29','#D6901B','#99cc00','#F63D52','#715B2F','#68C539','#D2691E','#4FB825','#9A485D','#ff0000','#204795','#AD6812','#47908F','#FC0BA8','#eb3734','#B3B300','#b3b3b3',];\n",
      "    /* var xValues = [\"AITC\", \"BJP\", \"HSPDP\", \"INC\", \"JD\", \"NOTA\", \"NPEP\", \"PDF\", \"UDP\", \"Other\"];\n",
      "    var yValues = [55, 49, 44, 24, 15, 55, 49, 44, 24, 15];\n",
      "    var barColors = [\n",
      "      \"#ff9f40\",\n",
      "      \"#ffcd56\",\n",
      "      \"#4bc0c0\",\n",
      "      \"#36a2eb\",\n",
      "      \"#9966ff\",\n",
      "      \"#aebedf\",\n",
      "      \"#ff6384\",\n",
      "      \"#fb9a74\",\n",
      "      \"#b5d36e\",\n",
      "      \"#e5aad4\"\n",
      "    ]; */\n",
      "    new Chart(\"piChart\", {\n",
      "      type: \"pie\",\n",
      "      data: {\n",
      "        labels: xValues,\n",
      "        datasets: [{\n",
      "          backgroundColor: barColors,\n",
      "          data: yValues,\n",
      "          borderWidth: [0]\n",
      "        }]\n",
      "      },\n",
      "      options: {\n",
      "        responsive: true,\n",
      "        plugins: {\n",
      "          legend: {\n",
      "            position: 'bottom',\n",
      "          },\n",
      "          title: {\n",
      "            display: true,\n",
      "            text: ''\n",
      "          }\n",
      "        }\n",
      "      },\n",
      "    });\n",
      "\n",
      "\n",
      "  </script>\n",
      "</body>\n",
      "</html>\n"
     ]
    }
   ],
   "source": [
    "print(soup)"
   ]
  },
  {
   "cell_type": "code",
   "execution_count": 14,
   "id": "1f3da5be-a32f-4422-93ee-8292facd1cab",
   "metadata": {},
   "outputs": [
    {
     "data": {
      "text/plain": [
       "<table class=\"table\">\n",
       "<thead>\n",
       "<tr>\n",
       "<th style=\"text-align: left;\">Party</th>\n",
       "<th style=\"text-align:right\">Won</th>\n",
       "<th style=\"text-align:right\">Leading</th>\n",
       "<th style=\"text-align:right\">Total</th>\n",
       "</tr>\n",
       "</thead>\n",
       "<tbody>\n",
       "<tr class=\"tr\">\n",
       "<td style=\"text-align:left\">Bharatiya Janata Party - BJP</td>\n",
       "<td style=\"text-align:right\">\n",
       "<a href=\"partywisewinresultState-369.htm\">240</a>\n",
       "</td>\n",
       "<td style=\"text-align:right\">\n",
       "                                                                                        0\n",
       "                                                                                    </td>\n",
       "<td style=\"text-align:right\">240</td>\n",
       "</tr>\n",
       "<tr class=\"tr\">\n",
       "<td style=\"text-align:left\">Indian National Congress - INC</td>\n",
       "<td style=\"text-align:right\">\n",
       "<a href=\"partywisewinresultState-742.htm\">99</a>\n",
       "</td>\n",
       "<td style=\"text-align:right\">\n",
       "                                                                                        0\n",
       "                                                                                    </td>\n",
       "<td style=\"text-align:right\">99</td>\n",
       "</tr>\n",
       "<tr class=\"tr\">\n",
       "<td style=\"text-align:left\">Samajwadi Party - SP</td>\n",
       "<td style=\"text-align:right\">\n",
       "<a href=\"partywisewinresultState-1680.htm\">37</a>\n",
       "</td>\n",
       "<td style=\"text-align:right\">\n",
       "                                                                                        0\n",
       "                                                                                    </td>\n",
       "<td style=\"text-align:right\">37</td>\n",
       "</tr>\n",
       "<tr class=\"tr\">\n",
       "<td style=\"text-align:left\">All India Trinamool Congress - AITC</td>\n",
       "<td style=\"text-align:right\">\n",
       "<a href=\"partywisewinresultState-140.htm\">29</a>\n",
       "</td>\n",
       "<td style=\"text-align:right\">\n",
       "                                                                                        0\n",
       "                                                                                    </td>\n",
       "<td style=\"text-align:right\">29</td>\n",
       "</tr>\n",
       "<tr class=\"tr\">\n",
       "<td style=\"text-align:left\">Dravida Munnetra Kazhagam - DMK</td>\n",
       "<td style=\"text-align:right\">\n",
       "<a href=\"partywisewinresultState-582.htm\">22</a>\n",
       "</td>\n",
       "<td style=\"text-align:right\">\n",
       "                                                                                        0\n",
       "                                                                                    </td>\n",
       "<td style=\"text-align:right\">22</td>\n",
       "</tr>\n",
       "<tr class=\"tr\">\n",
       "<td style=\"text-align:left\">Telugu Desam - TDP</td>\n",
       "<td style=\"text-align:right\">\n",
       "<a href=\"partywisewinresultState-1745.htm\">16</a>\n",
       "</td>\n",
       "<td style=\"text-align:right\">\n",
       "                                                                                        0\n",
       "                                                                                    </td>\n",
       "<td style=\"text-align:right\">16</td>\n",
       "</tr>\n",
       "<tr class=\"tr\">\n",
       "<td style=\"text-align:left\">Janata Dal  (United) - JD(U)</td>\n",
       "<td style=\"text-align:right\">\n",
       "<a href=\"partywisewinresultState-805.htm\">12</a>\n",
       "</td>\n",
       "<td style=\"text-align:right\">\n",
       "                                                                                        0\n",
       "                                                                                    </td>\n",
       "<td style=\"text-align:right\">12</td>\n",
       "</tr>\n",
       "<tr class=\"tr\">\n",
       "<td style=\"text-align:left\">Shiv Sena (Uddhav Balasaheb Thackrey) - SHSUBT</td>\n",
       "<td style=\"text-align:right\">\n",
       "<a href=\"partywisewinresultState-3369.htm\">9</a>\n",
       "</td>\n",
       "<td style=\"text-align:right\">\n",
       "                                                                                        0\n",
       "                                                                                    </td>\n",
       "<td style=\"text-align:right\">9</td>\n",
       "</tr>\n",
       "<tr class=\"tr\">\n",
       "<td style=\"text-align:left\">Nationalist Congress Party – Sharadchandra Pawar - NCPSP</td>\n",
       "<td style=\"text-align:right\">\n",
       "<a href=\"partywisewinresultState-3620.htm\">8</a>\n",
       "</td>\n",
       "<td style=\"text-align:right\">\n",
       "                                                                                        0\n",
       "                                                                                    </td>\n",
       "<td style=\"text-align:right\">8</td>\n",
       "</tr>\n",
       "<tr class=\"tr\">\n",
       "<td style=\"text-align:left\">Shiv Sena - SHS</td>\n",
       "<td style=\"text-align:right\">\n",
       "<a href=\"partywisewinresultState-3529.htm\">7</a>\n",
       "</td>\n",
       "<td style=\"text-align:right\">\n",
       "                                                                                        0\n",
       "                                                                                    </td>\n",
       "<td style=\"text-align:right\">7</td>\n",
       "</tr>\n",
       "<tr class=\"tr\">\n",
       "<td style=\"text-align:left\">Lok Janshakti Party(Ram Vilas) - LJPRV</td>\n",
       "<td style=\"text-align:right\">\n",
       "<a href=\"partywisewinresultState-3165.htm\">5</a>\n",
       "</td>\n",
       "<td style=\"text-align:right\">\n",
       "                                                                                        0\n",
       "                                                                                    </td>\n",
       "<td style=\"text-align:right\">5</td>\n",
       "</tr>\n",
       "<tr class=\"tr\">\n",
       "<td style=\"text-align:left\">Yuvajana Sramika Rythu Congress Party - YSRCP</td>\n",
       "<td style=\"text-align:right\">\n",
       "<a href=\"partywisewinresultState-1888.htm\">4</a>\n",
       "</td>\n",
       "<td style=\"text-align:right\">\n",
       "                                                                                        0\n",
       "                                                                                    </td>\n",
       "<td style=\"text-align:right\">4</td>\n",
       "</tr>\n",
       "<tr class=\"tr\">\n",
       "<td style=\"text-align:left\">Rashtriya Janata Dal - RJD</td>\n",
       "<td style=\"text-align:right\">\n",
       "<a href=\"partywisewinresultState-1420.htm\">4</a>\n",
       "</td>\n",
       "<td style=\"text-align:right\">\n",
       "                                                                                        0\n",
       "                                                                                    </td>\n",
       "<td style=\"text-align:right\">4</td>\n",
       "</tr>\n",
       "<tr class=\"tr\">\n",
       "<td style=\"text-align:left\">Communist Party of India  (Marxist) - CPI(M)</td>\n",
       "<td style=\"text-align:right\">\n",
       "<a href=\"partywisewinresultState-547.htm\">4</a>\n",
       "</td>\n",
       "<td style=\"text-align:right\">\n",
       "                                                                                        0\n",
       "                                                                                    </td>\n",
       "<td style=\"text-align:right\">4</td>\n",
       "</tr>\n",
       "<tr class=\"tr\">\n",
       "<td style=\"text-align:left\">Indian Union Muslim League - IUML</td>\n",
       "<td style=\"text-align:right\">\n",
       "<a href=\"partywisewinresultState-772.htm\">3</a>\n",
       "</td>\n",
       "<td style=\"text-align:right\">\n",
       "                                                                                        0\n",
       "                                                                                    </td>\n",
       "<td style=\"text-align:right\">3</td>\n",
       "</tr>\n",
       "<tr class=\"tr\">\n",
       "<td style=\"text-align:left\">Aam Aadmi Party - AAAP</td>\n",
       "<td style=\"text-align:right\">\n",
       "<a href=\"partywisewinresultState-1.htm\">3</a>\n",
       "</td>\n",
       "<td style=\"text-align:right\">\n",
       "                                                                                        0\n",
       "                                                                                    </td>\n",
       "<td style=\"text-align:right\">3</td>\n",
       "</tr>\n",
       "<tr class=\"tr\">\n",
       "<td style=\"text-align:left\">Jharkhand Mukti Morcha - JMM</td>\n",
       "<td style=\"text-align:right\">\n",
       "<a href=\"partywisewinresultState-852.htm\">3</a>\n",
       "</td>\n",
       "<td style=\"text-align:right\">\n",
       "                                                                                        0\n",
       "                                                                                    </td>\n",
       "<td style=\"text-align:right\">3</td>\n",
       "</tr>\n",
       "<tr class=\"tr\">\n",
       "<td style=\"text-align:left\">Janasena Party - JnP</td>\n",
       "<td style=\"text-align:right\">\n",
       "<a href=\"partywisewinresultState-860.htm\">2</a>\n",
       "</td>\n",
       "<td style=\"text-align:right\">\n",
       "                                                                                        0\n",
       "                                                                                    </td>\n",
       "<td style=\"text-align:right\">2</td>\n",
       "</tr>\n",
       "<tr class=\"tr\">\n",
       "<td style=\"text-align:left\">Communist Party of India  (Marxist-Leninist)  (Liberation) - CPI(ML)(L)</td>\n",
       "<td style=\"text-align:right\">\n",
       "<a href=\"partywisewinresultState-545.htm\">2</a>\n",
       "</td>\n",
       "<td style=\"text-align:right\">\n",
       "                                                                                        0\n",
       "                                                                                    </td>\n",
       "<td style=\"text-align:right\">2</td>\n",
       "</tr>\n",
       "<tr class=\"tr\">\n",
       "<td style=\"text-align:left\">Janata Dal  (Secular) - JD(S)</td>\n",
       "<td style=\"text-align:right\">\n",
       "<a href=\"partywisewinresultState-804.htm\">2</a>\n",
       "</td>\n",
       "<td style=\"text-align:right\">\n",
       "                                                                                        0\n",
       "                                                                                    </td>\n",
       "<td style=\"text-align:right\">2</td>\n",
       "</tr>\n",
       "<tr class=\"tr\">\n",
       "<td style=\"text-align:left\">Viduthalai Chiruthaigal Katchi - VCK</td>\n",
       "<td style=\"text-align:right\">\n",
       "<a href=\"partywisewinresultState-1847.htm\">2</a>\n",
       "</td>\n",
       "<td style=\"text-align:right\">\n",
       "                                                                                        0\n",
       "                                                                                    </td>\n",
       "<td style=\"text-align:right\">2</td>\n",
       "</tr>\n",
       "<tr class=\"tr\">\n",
       "<td style=\"text-align:left\">Communist Party of India - CPI</td>\n",
       "<td style=\"text-align:right\">\n",
       "<a href=\"partywisewinresultState-544.htm\">2</a>\n",
       "</td>\n",
       "<td style=\"text-align:right\">\n",
       "                                                                                        0\n",
       "                                                                                    </td>\n",
       "<td style=\"text-align:right\">2</td>\n",
       "</tr>\n",
       "<tr class=\"tr\">\n",
       "<td style=\"text-align:left\">Rashtriya Lok Dal - RLD</td>\n",
       "<td style=\"text-align:right\">\n",
       "<a href=\"partywisewinresultState-1458.htm\">2</a>\n",
       "</td>\n",
       "<td style=\"text-align:right\">\n",
       "                                                                                        0\n",
       "                                                                                    </td>\n",
       "<td style=\"text-align:right\">2</td>\n",
       "</tr>\n",
       "<tr class=\"tr\">\n",
       "<td style=\"text-align:left\">Jammu &amp; Kashmir National Conference - JKN</td>\n",
       "<td style=\"text-align:right\">\n",
       "<a href=\"partywisewinresultState-834.htm\">2</a>\n",
       "</td>\n",
       "<td style=\"text-align:right\">\n",
       "                                                                                        0\n",
       "                                                                                    </td>\n",
       "<td style=\"text-align:right\">2</td>\n",
       "</tr>\n",
       "<tr class=\"tr\">\n",
       "<td style=\"text-align:left\">United People’s Party, Liberal - UPPL</td>\n",
       "<td style=\"text-align:right\">\n",
       "<a href=\"partywisewinresultState-1998.htm\">1</a>\n",
       "</td>\n",
       "<td style=\"text-align:right\">\n",
       "                                                                                        0\n",
       "                                                                                    </td>\n",
       "<td style=\"text-align:right\">1</td>\n",
       "</tr>\n",
       "<tr class=\"tr\">\n",
       "<td style=\"text-align:left\">Asom Gana Parishad - AGP</td>\n",
       "<td style=\"text-align:right\">\n",
       "<a href=\"partywisewinresultState-83.htm\">1</a>\n",
       "</td>\n",
       "<td style=\"text-align:right\">\n",
       "                                                                                        0\n",
       "                                                                                    </td>\n",
       "<td style=\"text-align:right\">1</td>\n",
       "</tr>\n",
       "<tr class=\"tr\">\n",
       "<td style=\"text-align:left\">Hindustani Awam Morcha (Secular) - HAMS</td>\n",
       "<td style=\"text-align:right\">\n",
       "<a href=\"partywisewinresultState-664.htm\">1</a>\n",
       "</td>\n",
       "<td style=\"text-align:right\">\n",
       "                                                                                        0\n",
       "                                                                                    </td>\n",
       "<td style=\"text-align:right\">1</td>\n",
       "</tr>\n",
       "<tr class=\"tr\">\n",
       "<td style=\"text-align:left\">Kerala Congress - KEC</td>\n",
       "<td style=\"text-align:right\">\n",
       "<a href=\"partywisewinresultState-911.htm\">1</a>\n",
       "</td>\n",
       "<td style=\"text-align:right\">\n",
       "                                                                                        0\n",
       "                                                                                    </td>\n",
       "<td style=\"text-align:right\">1</td>\n",
       "</tr>\n",
       "<tr class=\"tr\">\n",
       "<td style=\"text-align:left\">Revolutionary Socialist Party - RSP</td>\n",
       "<td style=\"text-align:right\">\n",
       "<a href=\"partywisewinresultState-1534.htm\">1</a>\n",
       "</td>\n",
       "<td style=\"text-align:right\">\n",
       "                                                                                        0\n",
       "                                                                                    </td>\n",
       "<td style=\"text-align:right\">1</td>\n",
       "</tr>\n",
       "<tr class=\"tr\">\n",
       "<td style=\"text-align:left\">Nationalist Congress Party - NCP</td>\n",
       "<td style=\"text-align:right\">\n",
       "<a href=\"partywisewinresultState-1142.htm\">1</a>\n",
       "</td>\n",
       "<td style=\"text-align:right\">\n",
       "                                                                                        0\n",
       "                                                                                    </td>\n",
       "<td style=\"text-align:right\">1</td>\n",
       "</tr>\n",
       "<tr class=\"tr\">\n",
       "<td style=\"text-align:left\">Voice of the People Party - VOTPP</td>\n",
       "<td style=\"text-align:right\">\n",
       "<a href=\"partywisewinresultState-3388.htm\">1</a>\n",
       "</td>\n",
       "<td style=\"text-align:right\">\n",
       "                                                                                        0\n",
       "                                                                                    </td>\n",
       "<td style=\"text-align:right\">1</td>\n",
       "</tr>\n",
       "<tr class=\"tr\">\n",
       "<td style=\"text-align:left\">Zoram People’s Movement - ZPM</td>\n",
       "<td style=\"text-align:right\">\n",
       "<a href=\"partywisewinresultState-2757.htm\">1</a>\n",
       "</td>\n",
       "<td style=\"text-align:right\">\n",
       "                                                                                        0\n",
       "                                                                                    </td>\n",
       "<td style=\"text-align:right\">1</td>\n",
       "</tr>\n",
       "<tr class=\"tr\">\n",
       "<td style=\"text-align:left\">Shiromani Akali Dal - SAD</td>\n",
       "<td style=\"text-align:right\">\n",
       "<a href=\"partywisewinresultState-1584.htm\">1</a>\n",
       "</td>\n",
       "<td style=\"text-align:right\">\n",
       "                                                                                        0\n",
       "                                                                                    </td>\n",
       "<td style=\"text-align:right\">1</td>\n",
       "</tr>\n",
       "<tr class=\"tr\">\n",
       "<td style=\"text-align:left\">Rashtriya Loktantrik Party - RLTP</td>\n",
       "<td style=\"text-align:right\">\n",
       "<a href=\"partywisewinresultState-2484.htm\">1</a>\n",
       "</td>\n",
       "<td style=\"text-align:right\">\n",
       "                                                                                        0\n",
       "                                                                                    </td>\n",
       "<td style=\"text-align:right\">1</td>\n",
       "</tr>\n",
       "<tr class=\"tr\">\n",
       "<td style=\"text-align:left\">Bharat Adivasi Party - BHRTADVSIP</td>\n",
       "<td style=\"text-align:right\">\n",
       "<a href=\"partywisewinresultState-3482.htm\">1</a>\n",
       "</td>\n",
       "<td style=\"text-align:right\">\n",
       "                                                                                        0\n",
       "                                                                                    </td>\n",
       "<td style=\"text-align:right\">1</td>\n",
       "</tr>\n",
       "<tr class=\"tr\">\n",
       "<td style=\"text-align:left\">Sikkim Krantikari Morcha - SKM</td>\n",
       "<td style=\"text-align:right\">\n",
       "<a href=\"partywisewinresultState-1658.htm\">1</a>\n",
       "</td>\n",
       "<td style=\"text-align:right\">\n",
       "                                                                                        0\n",
       "                                                                                    </td>\n",
       "<td style=\"text-align:right\">1</td>\n",
       "</tr>\n",
       "<tr class=\"tr\">\n",
       "<td style=\"text-align:left\">Marumalarchi Dravida Munnetra Kazhagam - MDMK</td>\n",
       "<td style=\"text-align:right\">\n",
       "<a href=\"partywisewinresultState-1046.htm\">1</a>\n",
       "</td>\n",
       "<td style=\"text-align:right\">\n",
       "                                                                                        0\n",
       "                                                                                    </td>\n",
       "<td style=\"text-align:right\">1</td>\n",
       "</tr>\n",
       "<tr class=\"tr\">\n",
       "<td style=\"text-align:left\">Aazad Samaj Party (Kanshi Ram) - ASPKR</td>\n",
       "<td style=\"text-align:right\">\n",
       "<a href=\"partywisewinresultState-2989.htm\">1</a>\n",
       "</td>\n",
       "<td style=\"text-align:right\">\n",
       "                                                                                        0\n",
       "                                                                                    </td>\n",
       "<td style=\"text-align:right\">1</td>\n",
       "</tr>\n",
       "<tr class=\"tr\">\n",
       "<td style=\"text-align:left\">Apna Dal (Soneylal) - ADAL</td>\n",
       "<td style=\"text-align:right\">\n",
       "<a href=\"partywisewinresultState-2070.htm\">1</a>\n",
       "</td>\n",
       "<td style=\"text-align:right\">\n",
       "                                                                                        0\n",
       "                                                                                    </td>\n",
       "<td style=\"text-align:right\">1</td>\n",
       "</tr>\n",
       "<tr class=\"tr\">\n",
       "<td style=\"text-align:left\">AJSU Party - AJSUP</td>\n",
       "<td style=\"text-align:right\">\n",
       "<a href=\"partywisewinresultState-160.htm\">1</a>\n",
       "</td>\n",
       "<td style=\"text-align:right\">\n",
       "                                                                                        0\n",
       "                                                                                    </td>\n",
       "<td style=\"text-align:right\">1</td>\n",
       "</tr>\n",
       "<tr class=\"tr\">\n",
       "<td style=\"text-align:left\">All India Majlis-E-Ittehadul Muslimeen - AIMIM</td>\n",
       "<td style=\"text-align:right\">\n",
       "<a href=\"partywisewinresultState-118.htm\">1</a>\n",
       "</td>\n",
       "<td style=\"text-align:right\">\n",
       "                                                                                        0\n",
       "                                                                                    </td>\n",
       "<td style=\"text-align:right\">1</td>\n",
       "</tr>\n",
       "<tr class=\"tr\">\n",
       "<td style=\"text-align:left\">Independent - IND</td>\n",
       "<td style=\"text-align:right\">\n",
       "<a href=\"partywisewinresultState-743.htm\">7</a>\n",
       "</td>\n",
       "<td style=\"text-align:right\">\n",
       "                                                                                        0\n",
       "                                                                                    </td>\n",
       "<td style=\"text-align:right\">7</td>\n",
       "</tr>\n",
       "</tbody>\n",
       "<tfoot>\n",
       "<tr>\n",
       "<th>Total</th>\n",
       "<th style=\"text-align:right\">543</th>\n",
       "<th style=\"text-align:right\">0</th>\n",
       "<th style=\"text-align:right\">543</th>\n",
       "</tr>\n",
       "</tfoot>\n",
       "</table>"
      ]
     },
     "execution_count": 14,
     "metadata": {},
     "output_type": "execute_result"
    }
   ],
   "source": [
    "soup.find('table')"
   ]
  },
  {
   "cell_type": "code",
   "execution_count": 15,
   "id": "6b3ac040-fafd-4b62-88ea-4cbef54e28a4",
   "metadata": {},
   "outputs": [
    {
     "data": {
      "text/plain": [
       "[<th style=\"text-align: left;\">Party</th>,\n",
       " <th style=\"text-align:right\">Won</th>,\n",
       " <th style=\"text-align:right\">Leading</th>,\n",
       " <th style=\"text-align:right\">Total</th>,\n",
       " <th>Total</th>,\n",
       " <th style=\"text-align:right\">543</th>,\n",
       " <th style=\"text-align:right\">0</th>,\n",
       " <th style=\"text-align:right\">543</th>]"
      ]
     },
     "execution_count": 15,
     "metadata": {},
     "output_type": "execute_result"
    }
   ],
   "source": [
    "soup.find_all('th')"
   ]
  },
  {
   "cell_type": "code",
   "execution_count": 16,
   "id": "4b2fcd73-ca0a-4c96-9bdc-6db6460cddac",
   "metadata": {},
   "outputs": [],
   "source": [
    "party_title = soup.find_all('th')\n"
   ]
  },
  {
   "cell_type": "code",
   "execution_count": 19,
   "id": "afc90829-c892-441f-84d8-6bc5f682885d",
   "metadata": {},
   "outputs": [
    {
     "name": "stdout",
     "output_type": "stream",
     "text": [
      "['Party', 'Won', 'Leading', 'Total', 'Total', '543', '0', '543']\n"
     ]
    }
   ],
   "source": [
    "party_table_titles=[title.text for title in party_title]\n",
    "print(party_table_titles)                   "
   ]
  },
  {
   "cell_type": "code",
   "execution_count": 20,
   "id": "0acebdd4-f255-4091-b494-283cc6fc2fa1",
   "metadata": {},
   "outputs": [],
   "source": [
    "import pandas as pd"
   ]
  },
  {
   "cell_type": "code",
   "execution_count": 23,
   "id": "4e1c3749-b7a0-46f2-ae4d-4f7a858857e1",
   "metadata": {},
   "outputs": [
    {
     "data": {
      "text/html": [
       "<div>\n",
       "<style scoped>\n",
       "    .dataframe tbody tr th:only-of-type {\n",
       "        vertical-align: middle;\n",
       "    }\n",
       "\n",
       "    .dataframe tbody tr th {\n",
       "        vertical-align: top;\n",
       "    }\n",
       "\n",
       "    .dataframe thead th {\n",
       "        text-align: right;\n",
       "    }\n",
       "</style>\n",
       "<table border=\"1\" class=\"dataframe\">\n",
       "  <thead>\n",
       "    <tr style=\"text-align: right;\">\n",
       "      <th></th>\n",
       "      <th>Party</th>\n",
       "      <th>Won</th>\n",
       "      <th>Leading</th>\n",
       "      <th>Total</th>\n",
       "      <th>Total</th>\n",
       "      <th>543</th>\n",
       "      <th>0</th>\n",
       "      <th>543</th>\n",
       "    </tr>\n",
       "  </thead>\n",
       "  <tbody>\n",
       "  </tbody>\n",
       "</table>\n",
       "</div>"
      ],
      "text/plain": [
       "Empty DataFrame\n",
       "Columns: [Party, Won, Leading, Total, Total, 543, 0, 543]\n",
       "Index: []"
      ]
     },
     "execution_count": 23,
     "metadata": {},
     "output_type": "execute_result"
    }
   ],
   "source": [
    "df= pd.DataFrame(columns = party_table_titles)\n",
    "\n",
    "df\n",
    "\n"
   ]
  },
  {
   "cell_type": "code",
   "execution_count": 33,
   "id": "e5e9f0c3-4a98-4198-8754-b4e80ae921de",
   "metadata": {},
   "outputs": [
    {
     "name": "stdout",
     "output_type": "stream",
     "text": [
      "[<tr>\n",
      "<th style=\"text-align: left;\">Party</th>\n",
      "<th style=\"text-align:right\">Won</th>\n",
      "<th style=\"text-align:right\">Leading</th>\n",
      "<th style=\"text-align:right\">Total</th>\n",
      "</tr>, <tr class=\"tr\">\n",
      "<td style=\"text-align:left\">Bharatiya Janata Party - BJP</td>\n",
      "<td style=\"text-align:right\">\n",
      "<a href=\"partywisewinresultState-369.htm\">240</a>\n",
      "</td>\n",
      "<td style=\"text-align:right\">\n",
      "                                                                                        0\n",
      "                                                                                    </td>\n",
      "<td style=\"text-align:right\">240</td>\n",
      "</tr>, <tr class=\"tr\">\n",
      "<td style=\"text-align:left\">Indian National Congress - INC</td>\n",
      "<td style=\"text-align:right\">\n",
      "<a href=\"partywisewinresultState-742.htm\">99</a>\n",
      "</td>\n",
      "<td style=\"text-align:right\">\n",
      "                                                                                        0\n",
      "                                                                                    </td>\n",
      "<td style=\"text-align:right\">99</td>\n",
      "</tr>, <tr class=\"tr\">\n",
      "<td style=\"text-align:left\">Samajwadi Party - SP</td>\n",
      "<td style=\"text-align:right\">\n",
      "<a href=\"partywisewinresultState-1680.htm\">37</a>\n",
      "</td>\n",
      "<td style=\"text-align:right\">\n",
      "                                                                                        0\n",
      "                                                                                    </td>\n",
      "<td style=\"text-align:right\">37</td>\n",
      "</tr>, <tr class=\"tr\">\n",
      "<td style=\"text-align:left\">All India Trinamool Congress - AITC</td>\n",
      "<td style=\"text-align:right\">\n",
      "<a href=\"partywisewinresultState-140.htm\">29</a>\n",
      "</td>\n",
      "<td style=\"text-align:right\">\n",
      "                                                                                        0\n",
      "                                                                                    </td>\n",
      "<td style=\"text-align:right\">29</td>\n",
      "</tr>, <tr class=\"tr\">\n",
      "<td style=\"text-align:left\">Dravida Munnetra Kazhagam - DMK</td>\n",
      "<td style=\"text-align:right\">\n",
      "<a href=\"partywisewinresultState-582.htm\">22</a>\n",
      "</td>\n",
      "<td style=\"text-align:right\">\n",
      "                                                                                        0\n",
      "                                                                                    </td>\n",
      "<td style=\"text-align:right\">22</td>\n",
      "</tr>, <tr class=\"tr\">\n",
      "<td style=\"text-align:left\">Telugu Desam - TDP</td>\n",
      "<td style=\"text-align:right\">\n",
      "<a href=\"partywisewinresultState-1745.htm\">16</a>\n",
      "</td>\n",
      "<td style=\"text-align:right\">\n",
      "                                                                                        0\n",
      "                                                                                    </td>\n",
      "<td style=\"text-align:right\">16</td>\n",
      "</tr>, <tr class=\"tr\">\n",
      "<td style=\"text-align:left\">Janata Dal  (United) - JD(U)</td>\n",
      "<td style=\"text-align:right\">\n",
      "<a href=\"partywisewinresultState-805.htm\">12</a>\n",
      "</td>\n",
      "<td style=\"text-align:right\">\n",
      "                                                                                        0\n",
      "                                                                                    </td>\n",
      "<td style=\"text-align:right\">12</td>\n",
      "</tr>, <tr class=\"tr\">\n",
      "<td style=\"text-align:left\">Shiv Sena (Uddhav Balasaheb Thackrey) - SHSUBT</td>\n",
      "<td style=\"text-align:right\">\n",
      "<a href=\"partywisewinresultState-3369.htm\">9</a>\n",
      "</td>\n",
      "<td style=\"text-align:right\">\n",
      "                                                                                        0\n",
      "                                                                                    </td>\n",
      "<td style=\"text-align:right\">9</td>\n",
      "</tr>, <tr class=\"tr\">\n",
      "<td style=\"text-align:left\">Nationalist Congress Party – Sharadchandra Pawar - NCPSP</td>\n",
      "<td style=\"text-align:right\">\n",
      "<a href=\"partywisewinresultState-3620.htm\">8</a>\n",
      "</td>\n",
      "<td style=\"text-align:right\">\n",
      "                                                                                        0\n",
      "                                                                                    </td>\n",
      "<td style=\"text-align:right\">8</td>\n",
      "</tr>, <tr class=\"tr\">\n",
      "<td style=\"text-align:left\">Shiv Sena - SHS</td>\n",
      "<td style=\"text-align:right\">\n",
      "<a href=\"partywisewinresultState-3529.htm\">7</a>\n",
      "</td>\n",
      "<td style=\"text-align:right\">\n",
      "                                                                                        0\n",
      "                                                                                    </td>\n",
      "<td style=\"text-align:right\">7</td>\n",
      "</tr>, <tr class=\"tr\">\n",
      "<td style=\"text-align:left\">Lok Janshakti Party(Ram Vilas) - LJPRV</td>\n",
      "<td style=\"text-align:right\">\n",
      "<a href=\"partywisewinresultState-3165.htm\">5</a>\n",
      "</td>\n",
      "<td style=\"text-align:right\">\n",
      "                                                                                        0\n",
      "                                                                                    </td>\n",
      "<td style=\"text-align:right\">5</td>\n",
      "</tr>, <tr class=\"tr\">\n",
      "<td style=\"text-align:left\">Yuvajana Sramika Rythu Congress Party - YSRCP</td>\n",
      "<td style=\"text-align:right\">\n",
      "<a href=\"partywisewinresultState-1888.htm\">4</a>\n",
      "</td>\n",
      "<td style=\"text-align:right\">\n",
      "                                                                                        0\n",
      "                                                                                    </td>\n",
      "<td style=\"text-align:right\">4</td>\n",
      "</tr>, <tr class=\"tr\">\n",
      "<td style=\"text-align:left\">Rashtriya Janata Dal - RJD</td>\n",
      "<td style=\"text-align:right\">\n",
      "<a href=\"partywisewinresultState-1420.htm\">4</a>\n",
      "</td>\n",
      "<td style=\"text-align:right\">\n",
      "                                                                                        0\n",
      "                                                                                    </td>\n",
      "<td style=\"text-align:right\">4</td>\n",
      "</tr>, <tr class=\"tr\">\n",
      "<td style=\"text-align:left\">Communist Party of India  (Marxist) - CPI(M)</td>\n",
      "<td style=\"text-align:right\">\n",
      "<a href=\"partywisewinresultState-547.htm\">4</a>\n",
      "</td>\n",
      "<td style=\"text-align:right\">\n",
      "                                                                                        0\n",
      "                                                                                    </td>\n",
      "<td style=\"text-align:right\">4</td>\n",
      "</tr>, <tr class=\"tr\">\n",
      "<td style=\"text-align:left\">Indian Union Muslim League - IUML</td>\n",
      "<td style=\"text-align:right\">\n",
      "<a href=\"partywisewinresultState-772.htm\">3</a>\n",
      "</td>\n",
      "<td style=\"text-align:right\">\n",
      "                                                                                        0\n",
      "                                                                                    </td>\n",
      "<td style=\"text-align:right\">3</td>\n",
      "</tr>, <tr class=\"tr\">\n",
      "<td style=\"text-align:left\">Aam Aadmi Party - AAAP</td>\n",
      "<td style=\"text-align:right\">\n",
      "<a href=\"partywisewinresultState-1.htm\">3</a>\n",
      "</td>\n",
      "<td style=\"text-align:right\">\n",
      "                                                                                        0\n",
      "                                                                                    </td>\n",
      "<td style=\"text-align:right\">3</td>\n",
      "</tr>, <tr class=\"tr\">\n",
      "<td style=\"text-align:left\">Jharkhand Mukti Morcha - JMM</td>\n",
      "<td style=\"text-align:right\">\n",
      "<a href=\"partywisewinresultState-852.htm\">3</a>\n",
      "</td>\n",
      "<td style=\"text-align:right\">\n",
      "                                                                                        0\n",
      "                                                                                    </td>\n",
      "<td style=\"text-align:right\">3</td>\n",
      "</tr>, <tr class=\"tr\">\n",
      "<td style=\"text-align:left\">Janasena Party - JnP</td>\n",
      "<td style=\"text-align:right\">\n",
      "<a href=\"partywisewinresultState-860.htm\">2</a>\n",
      "</td>\n",
      "<td style=\"text-align:right\">\n",
      "                                                                                        0\n",
      "                                                                                    </td>\n",
      "<td style=\"text-align:right\">2</td>\n",
      "</tr>, <tr class=\"tr\">\n",
      "<td style=\"text-align:left\">Communist Party of India  (Marxist-Leninist)  (Liberation) - CPI(ML)(L)</td>\n",
      "<td style=\"text-align:right\">\n",
      "<a href=\"partywisewinresultState-545.htm\">2</a>\n",
      "</td>\n",
      "<td style=\"text-align:right\">\n",
      "                                                                                        0\n",
      "                                                                                    </td>\n",
      "<td style=\"text-align:right\">2</td>\n",
      "</tr>, <tr class=\"tr\">\n",
      "<td style=\"text-align:left\">Janata Dal  (Secular) - JD(S)</td>\n",
      "<td style=\"text-align:right\">\n",
      "<a href=\"partywisewinresultState-804.htm\">2</a>\n",
      "</td>\n",
      "<td style=\"text-align:right\">\n",
      "                                                                                        0\n",
      "                                                                                    </td>\n",
      "<td style=\"text-align:right\">2</td>\n",
      "</tr>, <tr class=\"tr\">\n",
      "<td style=\"text-align:left\">Viduthalai Chiruthaigal Katchi - VCK</td>\n",
      "<td style=\"text-align:right\">\n",
      "<a href=\"partywisewinresultState-1847.htm\">2</a>\n",
      "</td>\n",
      "<td style=\"text-align:right\">\n",
      "                                                                                        0\n",
      "                                                                                    </td>\n",
      "<td style=\"text-align:right\">2</td>\n",
      "</tr>, <tr class=\"tr\">\n",
      "<td style=\"text-align:left\">Communist Party of India - CPI</td>\n",
      "<td style=\"text-align:right\">\n",
      "<a href=\"partywisewinresultState-544.htm\">2</a>\n",
      "</td>\n",
      "<td style=\"text-align:right\">\n",
      "                                                                                        0\n",
      "                                                                                    </td>\n",
      "<td style=\"text-align:right\">2</td>\n",
      "</tr>, <tr class=\"tr\">\n",
      "<td style=\"text-align:left\">Rashtriya Lok Dal - RLD</td>\n",
      "<td style=\"text-align:right\">\n",
      "<a href=\"partywisewinresultState-1458.htm\">2</a>\n",
      "</td>\n",
      "<td style=\"text-align:right\">\n",
      "                                                                                        0\n",
      "                                                                                    </td>\n",
      "<td style=\"text-align:right\">2</td>\n",
      "</tr>, <tr class=\"tr\">\n",
      "<td style=\"text-align:left\">Jammu &amp; Kashmir National Conference - JKN</td>\n",
      "<td style=\"text-align:right\">\n",
      "<a href=\"partywisewinresultState-834.htm\">2</a>\n",
      "</td>\n",
      "<td style=\"text-align:right\">\n",
      "                                                                                        0\n",
      "                                                                                    </td>\n",
      "<td style=\"text-align:right\">2</td>\n",
      "</tr>, <tr class=\"tr\">\n",
      "<td style=\"text-align:left\">United People’s Party, Liberal - UPPL</td>\n",
      "<td style=\"text-align:right\">\n",
      "<a href=\"partywisewinresultState-1998.htm\">1</a>\n",
      "</td>\n",
      "<td style=\"text-align:right\">\n",
      "                                                                                        0\n",
      "                                                                                    </td>\n",
      "<td style=\"text-align:right\">1</td>\n",
      "</tr>, <tr class=\"tr\">\n",
      "<td style=\"text-align:left\">Asom Gana Parishad - AGP</td>\n",
      "<td style=\"text-align:right\">\n",
      "<a href=\"partywisewinresultState-83.htm\">1</a>\n",
      "</td>\n",
      "<td style=\"text-align:right\">\n",
      "                                                                                        0\n",
      "                                                                                    </td>\n",
      "<td style=\"text-align:right\">1</td>\n",
      "</tr>, <tr class=\"tr\">\n",
      "<td style=\"text-align:left\">Hindustani Awam Morcha (Secular) - HAMS</td>\n",
      "<td style=\"text-align:right\">\n",
      "<a href=\"partywisewinresultState-664.htm\">1</a>\n",
      "</td>\n",
      "<td style=\"text-align:right\">\n",
      "                                                                                        0\n",
      "                                                                                    </td>\n",
      "<td style=\"text-align:right\">1</td>\n",
      "</tr>, <tr class=\"tr\">\n",
      "<td style=\"text-align:left\">Kerala Congress - KEC</td>\n",
      "<td style=\"text-align:right\">\n",
      "<a href=\"partywisewinresultState-911.htm\">1</a>\n",
      "</td>\n",
      "<td style=\"text-align:right\">\n",
      "                                                                                        0\n",
      "                                                                                    </td>\n",
      "<td style=\"text-align:right\">1</td>\n",
      "</tr>, <tr class=\"tr\">\n",
      "<td style=\"text-align:left\">Revolutionary Socialist Party - RSP</td>\n",
      "<td style=\"text-align:right\">\n",
      "<a href=\"partywisewinresultState-1534.htm\">1</a>\n",
      "</td>\n",
      "<td style=\"text-align:right\">\n",
      "                                                                                        0\n",
      "                                                                                    </td>\n",
      "<td style=\"text-align:right\">1</td>\n",
      "</tr>, <tr class=\"tr\">\n",
      "<td style=\"text-align:left\">Nationalist Congress Party - NCP</td>\n",
      "<td style=\"text-align:right\">\n",
      "<a href=\"partywisewinresultState-1142.htm\">1</a>\n",
      "</td>\n",
      "<td style=\"text-align:right\">\n",
      "                                                                                        0\n",
      "                                                                                    </td>\n",
      "<td style=\"text-align:right\">1</td>\n",
      "</tr>, <tr class=\"tr\">\n",
      "<td style=\"text-align:left\">Voice of the People Party - VOTPP</td>\n",
      "<td style=\"text-align:right\">\n",
      "<a href=\"partywisewinresultState-3388.htm\">1</a>\n",
      "</td>\n",
      "<td style=\"text-align:right\">\n",
      "                                                                                        0\n",
      "                                                                                    </td>\n",
      "<td style=\"text-align:right\">1</td>\n",
      "</tr>, <tr class=\"tr\">\n",
      "<td style=\"text-align:left\">Zoram People’s Movement - ZPM</td>\n",
      "<td style=\"text-align:right\">\n",
      "<a href=\"partywisewinresultState-2757.htm\">1</a>\n",
      "</td>\n",
      "<td style=\"text-align:right\">\n",
      "                                                                                        0\n",
      "                                                                                    </td>\n",
      "<td style=\"text-align:right\">1</td>\n",
      "</tr>, <tr class=\"tr\">\n",
      "<td style=\"text-align:left\">Shiromani Akali Dal - SAD</td>\n",
      "<td style=\"text-align:right\">\n",
      "<a href=\"partywisewinresultState-1584.htm\">1</a>\n",
      "</td>\n",
      "<td style=\"text-align:right\">\n",
      "                                                                                        0\n",
      "                                                                                    </td>\n",
      "<td style=\"text-align:right\">1</td>\n",
      "</tr>, <tr class=\"tr\">\n",
      "<td style=\"text-align:left\">Rashtriya Loktantrik Party - RLTP</td>\n",
      "<td style=\"text-align:right\">\n",
      "<a href=\"partywisewinresultState-2484.htm\">1</a>\n",
      "</td>\n",
      "<td style=\"text-align:right\">\n",
      "                                                                                        0\n",
      "                                                                                    </td>\n",
      "<td style=\"text-align:right\">1</td>\n",
      "</tr>, <tr class=\"tr\">\n",
      "<td style=\"text-align:left\">Bharat Adivasi Party - BHRTADVSIP</td>\n",
      "<td style=\"text-align:right\">\n",
      "<a href=\"partywisewinresultState-3482.htm\">1</a>\n",
      "</td>\n",
      "<td style=\"text-align:right\">\n",
      "                                                                                        0\n",
      "                                                                                    </td>\n",
      "<td style=\"text-align:right\">1</td>\n",
      "</tr>, <tr class=\"tr\">\n",
      "<td style=\"text-align:left\">Sikkim Krantikari Morcha - SKM</td>\n",
      "<td style=\"text-align:right\">\n",
      "<a href=\"partywisewinresultState-1658.htm\">1</a>\n",
      "</td>\n",
      "<td style=\"text-align:right\">\n",
      "                                                                                        0\n",
      "                                                                                    </td>\n",
      "<td style=\"text-align:right\">1</td>\n",
      "</tr>, <tr class=\"tr\">\n",
      "<td style=\"text-align:left\">Marumalarchi Dravida Munnetra Kazhagam - MDMK</td>\n",
      "<td style=\"text-align:right\">\n",
      "<a href=\"partywisewinresultState-1046.htm\">1</a>\n",
      "</td>\n",
      "<td style=\"text-align:right\">\n",
      "                                                                                        0\n",
      "                                                                                    </td>\n",
      "<td style=\"text-align:right\">1</td>\n",
      "</tr>, <tr class=\"tr\">\n",
      "<td style=\"text-align:left\">Aazad Samaj Party (Kanshi Ram) - ASPKR</td>\n",
      "<td style=\"text-align:right\">\n",
      "<a href=\"partywisewinresultState-2989.htm\">1</a>\n",
      "</td>\n",
      "<td style=\"text-align:right\">\n",
      "                                                                                        0\n",
      "                                                                                    </td>\n",
      "<td style=\"text-align:right\">1</td>\n",
      "</tr>, <tr class=\"tr\">\n",
      "<td style=\"text-align:left\">Apna Dal (Soneylal) - ADAL</td>\n",
      "<td style=\"text-align:right\">\n",
      "<a href=\"partywisewinresultState-2070.htm\">1</a>\n",
      "</td>\n",
      "<td style=\"text-align:right\">\n",
      "                                                                                        0\n",
      "                                                                                    </td>\n",
      "<td style=\"text-align:right\">1</td>\n",
      "</tr>, <tr class=\"tr\">\n",
      "<td style=\"text-align:left\">AJSU Party - AJSUP</td>\n",
      "<td style=\"text-align:right\">\n",
      "<a href=\"partywisewinresultState-160.htm\">1</a>\n",
      "</td>\n",
      "<td style=\"text-align:right\">\n",
      "                                                                                        0\n",
      "                                                                                    </td>\n",
      "<td style=\"text-align:right\">1</td>\n",
      "</tr>, <tr class=\"tr\">\n",
      "<td style=\"text-align:left\">All India Majlis-E-Ittehadul Muslimeen - AIMIM</td>\n",
      "<td style=\"text-align:right\">\n",
      "<a href=\"partywisewinresultState-118.htm\">1</a>\n",
      "</td>\n",
      "<td style=\"text-align:right\">\n",
      "                                                                                        0\n",
      "                                                                                    </td>\n",
      "<td style=\"text-align:right\">1</td>\n",
      "</tr>, <tr class=\"tr\">\n",
      "<td style=\"text-align:left\">Independent - IND</td>\n",
      "<td style=\"text-align:right\">\n",
      "<a href=\"partywisewinresultState-743.htm\">7</a>\n",
      "</td>\n",
      "<td style=\"text-align:right\">\n",
      "                                                                                        0\n",
      "                                                                                    </td>\n",
      "<td style=\"text-align:right\">7</td>\n",
      "</tr>, <tr>\n",
      "<th>Total</th>\n",
      "<th style=\"text-align:right\">543</th>\n",
      "<th style=\"text-align:right\">0</th>\n",
      "<th style=\"text-align:right\">543</th>\n",
      "</tr>]\n"
     ]
    }
   ],
   "source": [
    "party_row=soup.find_all('tr')\n",
    "print(party_row)"
   ]
  },
  {
   "cell_type": "code",
   "execution_count": 40,
   "id": "c19a0902-aa10-4f81-aacf-6e0402884c49",
   "metadata": {},
   "outputs": [],
   "source": [
    "from bs4 import BeautifulSoup, Tag\n"
   ]
  },
  {
   "cell_type": "code",
   "execution_count": 58,
   "id": "ad077516-895f-47ef-89f4-cfbfe8bed055",
   "metadata": {},
   "outputs": [
    {
     "name": "stdout",
     "output_type": "stream",
     "text": [
      "['Bharatiya Janata Party - BJP', '240', '0', '240']\n",
      "['Indian National Congress - INC', '99', '0', '99']\n",
      "['Samajwadi Party - SP', '37', '0', '37']\n",
      "['All India Trinamool Congress - AITC', '29', '0', '29']\n",
      "['Dravida Munnetra Kazhagam - DMK', '22', '0', '22']\n",
      "['Telugu Desam - TDP', '16', '0', '16']\n",
      "['Janata Dal  (United) - JD(U)', '12', '0', '12']\n",
      "['Shiv Sena (Uddhav Balasaheb Thackrey) - SHSUBT', '9', '0', '9']\n",
      "['Nationalist Congress Party – Sharadchandra Pawar - NCPSP', '8', '0', '8']\n",
      "['Shiv Sena - SHS', '7', '0', '7']\n",
      "['Lok Janshakti Party(Ram Vilas) - LJPRV', '5', '0', '5']\n",
      "['Yuvajana Sramika Rythu Congress Party - YSRCP', '4', '0', '4']\n",
      "['Rashtriya Janata Dal - RJD', '4', '0', '4']\n",
      "['Communist Party of India  (Marxist) - CPI(M)', '4', '0', '4']\n",
      "['Indian Union Muslim League - IUML', '3', '0', '3']\n",
      "['Aam Aadmi Party - AAAP', '3', '0', '3']\n",
      "['Jharkhand Mukti Morcha - JMM', '3', '0', '3']\n",
      "['Janasena Party - JnP', '2', '0', '2']\n",
      "['Communist Party of India  (Marxist-Leninist)  (Liberation) - CPI(ML)(L)', '2', '0', '2']\n",
      "['Janata Dal  (Secular) - JD(S)', '2', '0', '2']\n",
      "['Viduthalai Chiruthaigal Katchi - VCK', '2', '0', '2']\n",
      "['Communist Party of India - CPI', '2', '0', '2']\n",
      "['Rashtriya Lok Dal - RLD', '2', '0', '2']\n",
      "['Jammu & Kashmir National Conference - JKN', '2', '0', '2']\n",
      "['United People’s Party, Liberal - UPPL', '1', '0', '1']\n",
      "['Asom Gana Parishad - AGP', '1', '0', '1']\n",
      "['Hindustani Awam Morcha (Secular) - HAMS', '1', '0', '1']\n",
      "['Kerala Congress - KEC', '1', '0', '1']\n",
      "['Revolutionary Socialist Party - RSP', '1', '0', '1']\n",
      "['Nationalist Congress Party - NCP', '1', '0', '1']\n",
      "['Voice of the People Party - VOTPP', '1', '0', '1']\n",
      "['Zoram People’s Movement - ZPM', '1', '0', '1']\n",
      "['Shiromani Akali Dal - SAD', '1', '0', '1']\n",
      "['Rashtriya Loktantrik Party - RLTP', '1', '0', '1']\n",
      "['Bharat Adivasi Party - BHRTADVSIP', '1', '0', '1']\n",
      "['Sikkim Krantikari Morcha - SKM', '1', '0', '1']\n",
      "['Marumalarchi Dravida Munnetra Kazhagam - MDMK', '1', '0', '1']\n",
      "['Aazad Samaj Party (Kanshi Ram) - ASPKR', '1', '0', '1']\n",
      "['Apna Dal (Soneylal) - ADAL', '1', '0', '1']\n",
      "['AJSU Party - AJSUP', '1', '0', '1']\n",
      "['All India Majlis-E-Ittehadul Muslimeen - AIMIM', '1', '0', '1']\n",
      "['Independent - IND', '7', '0', '7']\n",
      "[]\n"
     ]
    }
   ],
   "source": [
    "for row in party_row[1:]:\n",
    "    row_data=row.find_all('td')\n",
    "    individual_row_data=[data.text.strip() for data in row_data]\n",
    "    \n",
    "    print(individual_row_data)\n",
    "    # length = len(df)\n",
    "    # df.loc[length] = individual_row_data"
   ]
  },
  {
   "cell_type": "code",
   "execution_count": 97,
   "id": "e9dc7df4-7588-44f9-9079-835f08e00b35",
   "metadata": {},
   "outputs": [
    {
     "name": "stdout",
     "output_type": "stream",
     "text": [
      "                                           Party Name Seats Won  \\\n",
      "0                        Bharatiya Janata Party - BJP       240   \n",
      "1                      Indian National Congress - INC        99   \n",
      "2                                Samajwadi Party - SP        37   \n",
      "3                 All India Trinamool Congress - AITC        29   \n",
      "4                     Dravida Munnetra Kazhagam - DMK        22   \n",
      "5                                  Telugu Desam - TDP        16   \n",
      "6                        Janata Dal  (United) - JD(U)        12   \n",
      "7      Shiv Sena (Uddhav Balasaheb Thackrey) - SHSUBT         9   \n",
      "8   Nationalist Congress Party – Sharadchandra Paw...         8   \n",
      "9                                     Shiv Sena - SHS         7   \n",
      "10             Lok Janshakti Party(Ram Vilas) - LJPRV         5   \n",
      "11      Yuvajana Sramika Rythu Congress Party - YSRCP         4   \n",
      "12                         Rashtriya Janata Dal - RJD         4   \n",
      "13       Communist Party of India  (Marxist) - CPI(M)         3   \n",
      "14                      Janata Dal  (Secular) - JD(S)         2   \n",
      "15               Viduthalai Chiruthaigal Katchi - VCK         2   \n",
      "16                     Communist Party of India - CPI         2   \n",
      "17                            Rashtriya Lok Dal - RLD         2   \n",
      "18          Jammu & Kashmir National Conference - JKN         2   \n",
      "19              United People’s Party, Liberal - UPPL         1   \n",
      "20                           Asom Gana Parishad - AGP         1   \n",
      "21            Hindustani Awam Morcha (Secular) - HAMS         1   \n",
      "22                              Kerala Congress - KEC         1   \n",
      "23                Revolutionary Socialist Party - RSP         1   \n",
      "24                   Nationalist Congress Party - NCP         1   \n",
      "25                  Voice of the People Party - VOTPP         1   \n",
      "26                      Zoram People’s Movement - ZPM         1   \n",
      "27                          Shiromani Akali Dal - SAD         1   \n",
      "28                  Rashtriya Loktantrik Party - RLTP         1   \n",
      "29                  Bharat Adivasi Party - BHRTADVSIP         1   \n",
      "30                     Sikkim Krantikari Morcha - SKM         1   \n",
      "31      Marumalarchi Dravida Munnetra Kazhagam - MDMK         1   \n",
      "32             Aazad Samaj Party (Kanshi Ram) - ASPKR         1   \n",
      "33                         Apna Dal (Soneylal) - ADAL         1   \n",
      "34                                 AJSU Party - AJSUP         1   \n",
      "35     All India Majlis-E-Ittehadul Muslimeen - AIMIM         1   \n",
      "36                                  Independent - IND         7   \n",
      "\n",
      "   Seats Contested Total Seats  \n",
      "0                0         240  \n",
      "1                0          99  \n",
      "2                0          37  \n",
      "3                0          29  \n",
      "4                0          22  \n",
      "5                0          16  \n",
      "6                0          12  \n",
      "7                0           9  \n",
      "8                0           8  \n",
      "9                0           7  \n",
      "10               0           5  \n",
      "11               0           4  \n",
      "12               0           4  \n",
      "13               0           3  \n",
      "14               0           2  \n",
      "15               0           2  \n",
      "16               0           2  \n",
      "17               0           2  \n",
      "18               0           2  \n",
      "19               0           1  \n",
      "20               0           1  \n",
      "21               0           1  \n",
      "22               0           1  \n",
      "23               0           1  \n",
      "24               0           1  \n",
      "25               0           1  \n",
      "26               0           1  \n",
      "27               0           1  \n",
      "28               0           1  \n",
      "29               0           1  \n",
      "30               0           1  \n",
      "31               0           1  \n",
      "32               0           1  \n",
      "33               0           1  \n",
      "34               0           1  \n",
      "35               0           1  \n",
      "36               0           7  \n"
     ]
    }
   ],
   "source": [
    "data = [\n",
    "    ['Bharatiya Janata Party - BJP', '240', '0', '240'],\n",
    "    ['Indian National Congress - INC', '99', '0', '99'],\n",
    "    ['Samajwadi Party - SP', '37', '0', '37'],\n",
    "    ['All India Trinamool Congress - AITC', '29', '0', '29'],\n",
    "    ['Dravida Munnetra Kazhagam - DMK', '22', '0', '22'],\n",
    "    ['Telugu Desam - TDP', '16', '0', '16'],\n",
    "    ['Janata Dal  (United) - JD(U)', '12', '0', '12'],\n",
    "    ['Shiv Sena (Uddhav Balasaheb Thackrey) - SHSUBT', '9', '0', '9'],\n",
    "    ['Nationalist Congress Party – Sharadchandra Pawar - NCPSP', '8', '0', '8'],\n",
    "    ['Shiv Sena - SHS', '7', '0', '7'],\n",
    "    ['Lok Janshakti Party(Ram Vilas) - LJPRV', '5', '0', '5'],\n",
    "    ['Yuvajana Sramika Rythu Congress Party - YSRCP', '4', '0', '4'],\n",
    "    ['Rashtriya Janata Dal - RJD', '4', '0', '4'],\n",
    "    ['Communist Party of India  (Marxist) - CPI(M)', '3', '0', '3'],\n",
    "    ['Janata Dal  (Secular) - JD(S)', '2', '0', '2'],\n",
    "    ['Viduthalai Chiruthaigal Katchi - VCK', '2', '0', '2'],\n",
    "    ['Communist Party of India - CPI', '2', '0', '2'],\n",
    "    ['Rashtriya Lok Dal - RLD', '2', '0', '2'],\n",
    "    ['Jammu & Kashmir National Conference - JKN', '2', '0', '2'],\n",
    "    ['United People’s Party, Liberal - UPPL', '1', '0', '1'],\n",
    "    ['Asom Gana Parishad - AGP', '1', '0', '1'],\n",
    "    ['Hindustani Awam Morcha (Secular) - HAMS', '1', '0', '1'],\n",
    "    ['Kerala Congress - KEC', '1', '0', '1'],\n",
    "    ['Revolutionary Socialist Party - RSP', '1', '0', '1'],\n",
    "    ['Nationalist Congress Party - NCP', '1', '0', '1'],\n",
    "    ['Voice of the People Party - VOTPP', '1', '0', '1'],\n",
    "    ['Zoram People’s Movement - ZPM', '1', '0', '1'],\n",
    "    ['Shiromani Akali Dal - SAD', '1', '0', '1'],\n",
    "    ['Rashtriya Loktantrik Party - RLTP', '1', '0', '1'],\n",
    "    ['Bharat Adivasi Party - BHRTADVSIP', '1', '0', '1'],\n",
    "    ['Sikkim Krantikari Morcha - SKM', '1', '0', '1'],\n",
    "    ['Marumalarchi Dravida Munnetra Kazhagam - MDMK', '1', '0', '1'],\n",
    "    ['Aazad Samaj Party (Kanshi Ram) - ASPKR', '1', '0', '1'],\n",
    "    ['Apna Dal (Soneylal) - ADAL', '1', '0', '1'],\n",
    "    ['AJSU Party - AJSUP', '1', '0', '1'],\n",
    "    ['All India Majlis-E-Ittehadul Muslimeen - AIMIM', '1', '0', '1'],\n",
    "    ['Independent - IND', '7', '0', '7']\n",
    "    \n",
    "]\n",
    "\n",
    "columns = ['Party Name', 'Seats Won', 'Seats Contested', 'Total Seats']\n",
    "\n",
    "df = pd.DataFrame(columns=columns)\n",
    "\n",
    "# Populate the DataFrame with the data\n",
    "for row in data:\n",
    "    df.loc[len(df)] = row\n",
    "\n",
    "print(df)\n"
   ]
  },
  {
   "cell_type": "code",
   "execution_count": 62,
   "id": "0d7ea9c1-2a54-4804-9d76-9c7679b9d0f7",
   "metadata": {},
   "outputs": [
    {
     "name": "stdout",
     "output_type": "stream",
     "text": [
      "Requirement already satisfied: tabulate in c:\\users\\new\\anaconda3\\lib\\site-packages (0.9.0)Note: you may need to restart the kernel to use updated packages.\n",
      "\n"
     ]
    },
    {
     "name": "stderr",
     "output_type": "stream",
     "text": [
      "\n",
      "[notice] A new release of pip is available: 24.0 -> 24.1.1\n",
      "[notice] To update, run: python.exe -m pip install --upgrade pip\n"
     ]
    }
   ],
   "source": [
    "pip install tabulate\n"
   ]
  },
  {
   "cell_type": "code",
   "execution_count": 101,
   "id": "8a58c518-5840-46de-ac54-c7e29118ed51",
   "metadata": {},
   "outputs": [
    {
     "name": "stdout",
     "output_type": "stream",
     "text": [
      "| Party Name                                               |   Seats Won |   Seats Leading |   Total Seats |\n",
      "|----------------------------------------------------------|-------------|-----------------|---------------|\n",
      "| Bharatiya Janata Party - BJP                             |         240 |               0 |           240 |\n",
      "| Indian National Congress - INC                           |          99 |               0 |            99 |\n",
      "| Samajwadi Party - SP                                     |          37 |               0 |            37 |\n",
      "| All India Trinamool Congress - AITC                      |          29 |               0 |            29 |\n",
      "| Dravida Munnetra Kazhagam - DMK                          |          22 |               0 |            22 |\n",
      "| Telugu Desam - TDP                                       |          16 |               0 |            16 |\n",
      "| Janata Dal  (United) - JD(U)                             |          12 |               0 |            12 |\n",
      "| Shiv Sena (Uddhav Balasaheb Thackrey) - SHSUBT           |           9 |               0 |             9 |\n",
      "| Nationalist Congress Party – Sharadchandra Pawar - NCPSP |           8 |               0 |             8 |\n",
      "| Shiv Sena - SHS                                          |           7 |               0 |             7 |\n",
      "| Lok Janshakti Party(Ram Vilas) - LJPRV                   |           5 |               0 |             5 |\n",
      "| Yuvajana Sramika Rythu Congress Party - YSRCP            |           4 |               0 |             4 |\n",
      "| Rashtriya Janata Dal - RJD                               |           4 |               0 |             4 |\n",
      "| Communist Party of India  (Marxist) - CPI(M)             |           3 |               0 |             3 |\n",
      "| Janata Dal  (Secular) - JD(S)                            |           2 |               0 |             2 |\n",
      "| Viduthalai Chiruthaigal Katchi - VCK                     |           2 |               0 |             2 |\n",
      "| Communist Party of India - CPI                           |           2 |               0 |             2 |\n",
      "| Rashtriya Lok Dal - RLD                                  |           2 |               0 |             2 |\n",
      "| Jammu & Kashmir National Conference - JKN                |           2 |               0 |             2 |\n",
      "| United People’s Party, Liberal - UPPL                    |           1 |               0 |             1 |\n",
      "| Asom Gana Parishad - AGP                                 |           1 |               0 |             1 |\n",
      "| Hindustani Awam Morcha (Secular) - HAMS                  |           1 |               0 |             1 |\n",
      "| Kerala Congress - KEC                                    |           1 |               0 |             1 |\n",
      "| Revolutionary Socialist Party - RSP                      |           1 |               0 |             1 |\n",
      "| Nationalist Congress Party - NCP                         |           1 |               0 |             1 |\n",
      "| Voice of the People Party - VOTPP                        |           1 |               0 |             1 |\n",
      "| Zoram People’s Movement - ZPM                            |           1 |               0 |             1 |\n",
      "| Shiromani Akali Dal - SAD                                |           1 |               0 |             1 |\n",
      "| Rashtriya Loktantrik Party - RLTP                        |           1 |               0 |             1 |\n",
      "| Bharat Adivasi Party - BHRTADVSIP                        |           1 |               0 |             1 |\n",
      "| Sikkim Krantikari Morcha - SKM                           |           1 |               0 |             1 |\n",
      "| Marumalarchi Dravida Munnetra Kazhagam - MDMK            |           1 |               0 |             1 |\n",
      "| Aazad Samaj Party (Kanshi Ram) - ASPKR                   |           1 |               0 |             1 |\n",
      "| Apna Dal (Soneylal) - ADAL                               |           1 |               0 |             1 |\n",
      "| AJSU Party - AJSUP                                       |           1 |               0 |             1 |\n",
      "| All India Majlis-E-Ittehadul Muslimeen - AIMIM           |           1 |               0 |             1 |\n",
      "| Independent - IND                                        |           7 |               0 |             7 |\n"
     ]
    }
   ],
   "source": [
    "import pandas as pd\n",
    "from tabulate import tabulate\n",
    "\n",
    "data= [\n",
    "    ['Bharatiya Janata Party - BJP', '240', '0', '240'],\n",
    "    ['Indian National Congress - INC', '99', '0', '99'],\n",
    "    ['Samajwadi Party - SP', '37', '0', '37'],\n",
    "    ['All India Trinamool Congress - AITC', '29', '0', '29'],\n",
    "    ['Dravida Munnetra Kazhagam - DMK', '22', '0', '22'],\n",
    "    ['Telugu Desam - TDP', '16', '0', '16'],\n",
    "    ['Janata Dal  (United) - JD(U)', '12', '0', '12'],\n",
    "    ['Shiv Sena (Uddhav Balasaheb Thackrey) - SHSUBT', '9', '0', '9'],\n",
    "    ['Nationalist Congress Party – Sharadchandra Pawar - NCPSP', '8', '0', '8'],\n",
    "    ['Shiv Sena - SHS', '7', '0', '7'],\n",
    "    ['Lok Janshakti Party(Ram Vilas) - LJPRV', '5', '0', '5'],\n",
    "    ['Yuvajana Sramika Rythu Congress Party - YSRCP', '4', '0', '4'],\n",
    "    ['Rashtriya Janata Dal - RJD', '4', '0', '4'],\n",
    "    ['Communist Party of India  (Marxist) - CPI(M)', '3', '0', '3'],\n",
    "    ['Janata Dal  (Secular) - JD(S)', '2', '0', '2'],\n",
    "    ['Viduthalai Chiruthaigal Katchi - VCK', '2', '0', '2'],\n",
    "    ['Communist Party of India - CPI', '2', '0', '2'],\n",
    "    ['Rashtriya Lok Dal - RLD', '2', '0', '2'],\n",
    "    ['Jammu & Kashmir National Conference - JKN', '2', '0', '2'],\n",
    "    ['United People’s Party, Liberal - UPPL', '1', '0', '1'],\n",
    "    ['Asom Gana Parishad - AGP', '1', '0', '1'],\n",
    "    ['Hindustani Awam Morcha (Secular) - HAMS', '1', '0', '1'],\n",
    "    ['Kerala Congress - KEC', '1', '0', '1'],\n",
    "    ['Revolutionary Socialist Party - RSP', '1', '0', '1'],\n",
    "    ['Nationalist Congress Party - NCP', '1', '0', '1'],\n",
    "    ['Voice of the People Party - VOTPP', '1', '0', '1'],\n",
    "    ['Zoram People’s Movement - ZPM', '1', '0', '1'],\n",
    "    ['Shiromani Akali Dal - SAD', '1', '0', '1'],\n",
    "    ['Rashtriya Loktantrik Party - RLTP', '1', '0', '1'],\n",
    "    ['Bharat Adivasi Party - BHRTADVSIP', '1', '0', '1'],\n",
    "    ['Sikkim Krantikari Morcha - SKM', '1', '0', '1'],\n",
    "    ['Marumalarchi Dravida Munnetra Kazhagam - MDMK', '1', '0', '1'],\n",
    "    ['Aazad Samaj Party (Kanshi Ram) - ASPKR', '1', '0', '1'],\n",
    "    ['Apna Dal (Soneylal) - ADAL', '1', '0', '1'],\n",
    "    ['AJSU Party - AJSUP', '1', '0', '1'],\n",
    "    ['All India Majlis-E-Ittehadul Muslimeen - AIMIM', '1', '0', '1'],\n",
    "    ['Independent - IND', '7', '0', '7']\n",
    "    \n",
    "]\n",
    "columns = ['Party Name', 'Seats Won', 'Seats Leading', 'Total Seats']\n",
    "\n",
    "# Create a DataFrame\n",
    "df = pd.DataFrame(data, columns=columns)\n",
    "\n",
    "print(tabulate(df, headers='keys', tablefmt='github', showindex=False))\n"
   ]
  },
  {
   "cell_type": "code",
   "execution_count": 72,
   "id": "fda51a33-db68-4000-b0c4-5cd6ed7d4463",
   "metadata": {},
   "outputs": [
    {
     "name": "stdout",
     "output_type": "stream",
     "text": [
      "                          Party Name Seats Won Seats Leading Total Seats\n",
      "count                             14        14            14          14\n",
      "unique                            14        13             1          13\n",
      "top     Bharatiya Janata Party - BJP         4             0           4\n",
      "freq                               1         2            14           2\n"
     ]
    }
   ],
   "source": [
    "# Basic statistics\n",
    "summary_stats = df.describe()\n",
    "\n",
    "print(summary_stats)"
   ]
  },
  {
   "cell_type": "code",
   "execution_count": 80,
   "id": "a4d6949a-cb03-4f43-b00f-c81819a7c219",
   "metadata": {},
   "outputs": [
    {
     "name": "stdout",
     "output_type": "stream",
     "text": [
      "Party with the most seats won: Bharatiya Janata Party - BJP\n"
     ]
    }
   ],
   "source": [
    "#isnights party with most seats\n",
    "# Convert 'Seats Won' to integers\n",
    "df['Seats Won'] = df['Seats Won'].astype(int)\n",
    "\n",
    "# Sort parties by seats won in descending order\n",
    "party_most_seats_sorted = df.sort_values(by='Seats Won', ascending=False)\n",
    "\n",
    "# Get the party with the most seats won\n",
    "top_party = party_most_seats_sorted.iloc[0]['Party Name']\n",
    "\n",
    "print(f\"Party with the most seats won: {top_party}\")"
   ]
  },
  {
   "cell_type": "code",
   "execution_count": 83,
   "id": "9fdd23c5-216f-404a-a48d-bb3c6cde2873",
   "metadata": {},
   "outputs": [
    {
     "data": {
      "image/png": "[encoded data removed]",
      "text/plain": [
       "<Figure size 1200x600 with 1 Axes>"
      ]
     },
     "metadata": {},
     "output_type": "display_data"
    }
   ],
   "source": [
    "#insight 3 distrubtion of seats\n",
    "import matplotlib.pyplot as plt\n",
    "\n",
    "plt.figure(figsize=(12, 6))\n",
    "plt.bar(df['Party Name'], df['Seats Won'])\n",
    "plt.xticks(rotation=90)\n",
    "plt.xlabel('Party Name')\n",
    "plt.ylabel('Seats Won')\n",
    "plt.title('Distribution of Seats Won by Political Parties')\n",
    "plt.tight_layout()\n",
    "plt.show()\n"
   ]
  },
  {
   "cell_type": "code",
   "execution_count": 84,
   "id": "3abfbd13-e3d3-4c8e-aa69-4f3bbf412dfb",
   "metadata": {},
   "outputs": [
    {
     "data": {
      "image/png": "[encoded data removed]",
      "text/plain": [
       "<Figure size 1000x600 with 1 Axes>"
      ]
     },
     "metadata": {},
     "output_type": "display_data"
    }
   ],
   "source": [
    "#Insight 4: Comparison of Major Parties\n",
    "major_parties = df[df['Party Name'].isin(['Bharatiya Janata Party - BJP', 'Indian National Congress - INC' ])]\n",
    "\n",
    "plt.figure(figsize=(10, 6))\n",
    "plt.bar(major_parties['Party Name'], major_parties['Seats Won'])\n",
    "plt.xticks(rotation=45)\n",
    "plt.xlabel('Party Name')\n",
    "plt.ylabel('Seats Won')\n",
    "plt.title('Comparison of Seats Won by Major Political Parties')\n",
    "plt.tight_layout()\n",
    "plt.show()\n",
    "\n"
   ]
  },
  {
   "cell_type": "code",
   "execution_count": 86,
   "id": "e40385dc-1025-47c8-9c3b-a89de824d4ce",
   "metadata": {},
   "outputs": [],
   "source": [
    "import plotly.graph_objs as go\n",
    "from plotly.subplots import make_subplots"
   ]
  },
  {
   "cell_type": "code",
   "execution_count": 91,
   "id": "efdc4a7b-6364-41da-8e6d-21cca4d6b66e",
   "metadata": {},
   "outputs": [
    {
     "name": "stdout",
     "output_type": "stream",
     "text": [
      "Regional Parties:\n",
      "+---+------------------------------------------------+-----------+\n",
      "|   |                   Party Name                   | Seats Won |\n",
      "+---+------------------------------------------------+-----------+\n",
      "| 2 |              Samajwadi Party - SP              |    37     |\n",
      "| 4 |        Dravida Munnetra Kazhagam - DMK         |    22     |\n",
      "| 5 |               Telugu Desam - TDP               |    16     |\n",
      "| 7 | Shiv Sena (Uddhav Balasaheb Thackrey) - SHSUBT |     9     |\n",
      "+---+------------------------------------------------+-----------+\n",
      "\n",
      "National Parties:\n",
      "+----+----------------------------------------------------------+-----------+\n",
      "|    |                        Party Name                        | Seats Won |\n",
      "+----+----------------------------------------------------------+-----------+\n",
      "| 0  |               Bharatiya Janata Party - BJP               |    240    |\n",
      "| 1  |              Indian National Congress - INC              |    99     |\n",
      "| 3  |           All India Trinamool Congress - AITC            |    29     |\n",
      "| 6  |               Janata Dal  (United) - JD(U)               |    12     |\n",
      "| 8  | Nationalist Congress Party – Sharadchandra Pawar - NCPSP |     8     |\n",
      "| 9  |                     Shiv Sena - SHS                      |     7     |\n",
      "| 10 |          Lok Janshakti Party(Ram Vilas) - LJPRV          |     5     |\n",
      "| 11 |      Yuvajana Sramika Rythu Congress Party - YSRCP       |     4     |\n",
      "| 12 |                Rashtriya Janata Dal - RJD                |     4     |\n",
      "| 13 |       Communist Party of India  (Marxist) - CPI(M)       |     3     |\n",
      "+----+----------------------------------------------------------+-----------+\n"
     ]
    }
   ],
   "source": [
    "#insights 5 national vs local parties\n",
    "df = pd.DataFrame(data, columns=['Party Name', 'Seats Won', 'Some Column', 'Another Column'])\n",
    "\n",
    "# List of regional party names (just an example)\n",
    "regional_party_names = ['Samajwadi Party - SP', 'Dravida Munnetra Kazhagam - DMK', 'Telugu Desam - TDP', 'Shiv Sena (Uddhav Balasaheb Thackrey) - SHSUBT']\n",
    "\n",
    "# Add a 'Region' column based on the list of regional parties\n",
    "df['Region'] = df['Party Name'].apply(lambda x: 'Regional' if x in regional_party_names else 'National')\n",
    "\n",
    "# Separate into regional and national parties\n",
    "regional_parties = df[df['Region'] == 'Regional']\n",
    "national_parties = df[df['Region'] == 'National']\n",
    "\n",
    "# Format the tables using tabulate\n",
    "print(\"Regional Parties:\")\n",
    "print(tabulate(regional_parties[['Party Name', 'Seats Won']], headers='keys', tablefmt='pretty'))\n",
    "print(\"\\nNational Parties:\")\n",
    "print(tabulate(national_parties[['Party Name', 'Seats Won']], headers='keys', tablefmt='pretty'))"
   ]
  },
  {
   "cell_type": "code",
   "execution_count": 102,
   "id": "85c203d1-9df1-4d98-906c-1053b029c52e",
   "metadata": {},
   "outputs": [],
   "source": [
    "#isights 6 uttarpradesh state  loksabha results\n",
    "url = 'https://results.eci.gov.in/PcResultGenJune2024/partywiseresult-S24.htm'\n",
    "\n",
    "page=requests.get(url)\n",
    "\n",
    "soup=BeautifulSoup(page.text,'html')"
   ]
  },
  {
   "cell_type": "code",
   "execution_count": 104,
   "id": "c752bc3b-bd08-4570-b1bc-c201c2128a57",
   "metadata": {},
   "outputs": [
    {
     "data": {
      "text/plain": [
       "[<th style=\"text-align: left;\">Party</th>,\n",
       " <th style=\"text-align:right\">Won</th>,\n",
       " <th style=\"text-align:right\">Leading</th>,\n",
       " <th style=\"text-align:right\">Total</th>,\n",
       " <th>Total</th>,\n",
       " <th style=\"text-align:right\">80</th>,\n",
       " <th style=\"text-align:right\">0</th>,\n",
       " <th style=\"text-align:right\">80</th>]"
      ]
     },
     "execution_count": 104,
     "metadata": {},
     "output_type": "execute_result"
    }
   ],
   "source": [
    "soup.find_all('th')"
   ]
  },
  {
   "cell_type": "code",
   "execution_count": 105,
   "id": "b0982639-a558-4500-9251-4db8f1fe097b",
   "metadata": {},
   "outputs": [
    {
     "name": "stdout",
     "output_type": "stream",
     "text": [
      "[<tr>\n",
      "<th style=\"text-align: left;\">Party</th>\n",
      "<th style=\"text-align:right\">Won</th>\n",
      "<th style=\"text-align:right\">Leading</th>\n",
      "<th style=\"text-align:right\">Total</th>\n",
      "</tr>, <tr class=\"tr\">\n",
      "<td style=\"text-align:left\">Samajwadi Party - SP</td>\n",
      "<td style=\"text-align:right\">\n",
      "<a href=\"partywisewinresult-1680S24.htm\">37</a>\n",
      "</td>\n",
      "<td style=\"text-align:right\">\n",
      "                                                                                        0\n",
      "                                                                                    </td>\n",
      "<td style=\"text-align:right\">37</td>\n",
      "</tr>, <tr class=\"tr\">\n",
      "<td style=\"text-align:left\">Bharatiya Janata Party - BJP</td>\n",
      "<td style=\"text-align:right\">\n",
      "<a href=\"partywisewinresult-369S24.htm\">33</a>\n",
      "</td>\n",
      "<td style=\"text-align:right\">\n",
      "                                                                                        0\n",
      "                                                                                    </td>\n",
      "<td style=\"text-align:right\">33</td>\n",
      "</tr>, <tr class=\"tr\">\n",
      "<td style=\"text-align:left\">Indian National Congress - INC</td>\n",
      "<td style=\"text-align:right\">\n",
      "<a href=\"partywisewinresult-742S24.htm\">6</a>\n",
      "</td>\n",
      "<td style=\"text-align:right\">\n",
      "                                                                                        0\n",
      "                                                                                    </td>\n",
      "<td style=\"text-align:right\">6</td>\n",
      "</tr>, <tr class=\"tr\">\n",
      "<td style=\"text-align:left\">Rashtriya Lok Dal - RLD</td>\n",
      "<td style=\"text-align:right\">\n",
      "<a href=\"partywisewinresult-1458S24.htm\">2</a>\n",
      "</td>\n",
      "<td style=\"text-align:right\">\n",
      "                                                                                        0\n",
      "                                                                                    </td>\n",
      "<td style=\"text-align:right\">2</td>\n",
      "</tr>, <tr class=\"tr\">\n",
      "<td style=\"text-align:left\">Aazad Samaj Party (Kanshi Ram) - ASPKR</td>\n",
      "<td style=\"text-align:right\">\n",
      "<a href=\"partywisewinresult-2989S24.htm\">1</a>\n",
      "</td>\n",
      "<td style=\"text-align:right\">\n",
      "                                                                                        0\n",
      "                                                                                    </td>\n",
      "<td style=\"text-align:right\">1</td>\n",
      "</tr>, <tr class=\"tr\">\n",
      "<td style=\"text-align:left\">Apna Dal (Soneylal) - ADAL</td>\n",
      "<td style=\"text-align:right\">\n",
      "<a href=\"partywisewinresult-2070S24.htm\">1</a>\n",
      "</td>\n",
      "<td style=\"text-align:right\">\n",
      "                                                                                        0\n",
      "                                                                                    </td>\n",
      "<td style=\"text-align:right\">1</td>\n",
      "</tr>, <tr>\n",
      "<th>Total</th>\n",
      "<th style=\"text-align:right\">80</th>\n",
      "<th style=\"text-align:right\">0</th>\n",
      "<th style=\"text-align:right\">80</th>\n",
      "</tr>]\n"
     ]
    }
   ],
   "source": [
    "party_analysis=soup.find_all('tr')\n",
    "print(party_analysis)"
   ]
  },
  {
   "cell_type": "code",
   "execution_count": 106,
   "id": "97915456-1801-4caa-8b00-99e538d67bc1",
   "metadata": {},
   "outputs": [
    {
     "name": "stdout",
     "output_type": "stream",
     "text": [
      "['Samajwadi Party - SP', '37', '0', '37']\n",
      "['Bharatiya Janata Party - BJP', '33', '0', '33']\n",
      "['Indian National Congress - INC', '6', '0', '6']\n",
      "['Rashtriya Lok Dal - RLD', '2', '0', '2']\n",
      "['Aazad Samaj Party (Kanshi Ram) - ASPKR', '1', '0', '1']\n",
      "['Apna Dal (Soneylal) - ADAL', '1', '0', '1']\n",
      "[]\n"
     ]
    }
   ],
   "source": [
    "for row in party_analysis[1:]:\n",
    "    row_datas=row.find_all('td')\n",
    "    individual_row_datas=[data.text.strip() for data in row_datas]\n",
    "    \n",
    "    print(individual_row_datas)"
   ]
  },
  {
   "cell_type": "code",
   "execution_count": 108,
   "id": "18c44c8a-9882-46b6-bede-5c7ecf56d8d0",
   "metadata": {},
   "outputs": [
    {
     "data": {
      "image/png": "[encoded data removed]",
      "text/plain": [
       "<Figure size 1000x600 with 1 Axes>"
      ]
     },
     "metadata": {},
     "output_type": "display_data"
    }
   ],
   "source": [
    "import matplotlib.pyplot as plt\n",
    "#insight 7\n",
    "# Given data obtained from the row party\n",
    "data = [\n",
    "    ['Samajwadi Party - SP', '37', '0', '37'],\n",
    "    ['Bharatiya Janata Party - BJP', '33', '0', '33'],\n",
    "    ['Indian National Congress - INC', '6', '0', '6'],\n",
    "    ['Rashtriya Lok Dal - RLD', '2', '0', '2'],\n",
    "    ['Aazad Samaj Party (Kanshi Ram) - ASPKR', '1', '0', '1'],\n",
    "    ['Apna Dal (Soneylal) - ADAL', '1', '0', '1']\n",
    "]\n",
    "\n",
    "# Extract party names and seats won\n",
    "party_names = [party[0] for party in data]\n",
    "seats_won = [int(party[3]) for party in data]\n",
    "\n",
    "# Plotting the data\n",
    "plt.figure(figsize=(10, 6))\n",
    "plt.bar(party_names, seats_won, color='skyblue')\n",
    "\n",
    "# Adding titles and labels\n",
    "plt.title('Seats Won by Political Parties')\n",
    "plt.xlabel('Political Parties')\n",
    "plt.ylabel('Number of Seats Won')\n",
    "plt.xticks(rotation=45, ha='right')\n",
    "\n",
    "# Display the plot\n",
    "plt.tight_layout()\n",
    "plt.show()\n"
   ]
  },
  {
   "cell_type": "code",
   "execution_count": 109,
   "id": "ca2837d0-c41a-4f1f-9697-8ba66d58f888",
   "metadata": {},
   "outputs": [
    {
     "data": {
      "image/png": "[encoded data removed]",
      "text/plain": [
       "<Figure size 800x600 with 1 Axes>"
      ]
     },
     "metadata": {},
     "output_type": "display_data"
    }
   ],
   "source": [
    "import matplotlib.pyplot as plt\n",
    "#insight 8\n",
    "# Example data (replace with your actual data)\n",
    "parties = ['BJP', 'INC', 'SP', 'AITC', 'DMK', 'TDP', 'JD(U)', 'SHSUBT', 'NCPSP', 'SHS']\n",
    "seats = [240, 99, 37, 29, 22, 16, 12, 9, 8, 7]\n",
    "\n",
    "# Define categories based on seats won\n",
    "large_threshold = 100\n",
    "medium_threshold = 50\n",
    "\n",
    "# Initialize counters for each category\n",
    "large_count = 0\n",
    "medium_count = 0\n",
    "small_count = 0\n",
    "\n",
    "# Categorize parties\n",
    "for seat_count in seats:\n",
    "    if seat_count > large_threshold:\n",
    "        large_count += 1\n",
    "    elif seat_count >= medium_threshold:\n",
    "        medium_count += 1\n",
    "    else:\n",
    "        small_count += 1\n",
    "\n",
    "# Data for the pie chart\n",
    "categories = ['Large (>100 seats)', 'Medium (50-100 seats)', 'Small (<50 seats)']\n",
    "category_counts = [large_count, medium_count, small_count]\n",
    "colors = ['gold', 'lightskyblue', 'lightcoral']\n",
    "\n",
    "# Create a pie chart\n",
    "plt.figure(figsize=(8, 6))\n",
    "plt.pie(category_counts, labels=categories, colors=colors, autopct='%1.1f%%', startangle=140)\n",
    "plt.title('Distribution of Seats Won by Category')\n",
    "plt.axis('equal')  # Equal aspect ratio ensures that pie is drawn as a circle.\n",
    "plt.show()\n"
   ]
  },
  {
   "cell_type": "code",
   "execution_count": 110,
   "id": "e22bf74c-8a5e-4893-9315-dfd8b806fe96",
   "metadata": {},
   "outputs": [
    {
     "data": {
      "image/png": "[encoded data removed]",
      "text/plain": [
       "<Figure size 1200x800 with 1 Axes>"
      ]
     },
     "metadata": {},
     "output_type": "display_data"
    }
   ],
   "source": [
    "import matplotlib.pyplot as plt\n",
    "#insight 9\n",
    "# Plotting the data as a bar chart\n",
    "plt.figure(figsize=(12, 8))\n",
    "plt.barh(party_names, seats_won, color='skyblue')\n",
    "plt.xlabel('Number of Seats Won')\n",
    "plt.ylabel('Political Parties')\n",
    "plt.title('Seats Won by Political Parties')\n",
    "\n",
    "# Adding data labels\n",
    "for index, value in enumerate(seats_won):\n",
    "    plt.text(value, index, str(value))\n",
    "\n",
    "plt.gca().invert_yaxis()  # Invert y-axis to show the highest seats at the top\n",
    "plt.tight_layout()\n",
    "plt.show()\n"
   ]
  },
  {
   "cell_type": "code",
   "execution_count": 113,
   "id": "56715c2b-4ac4-4388-8343-a29dc167a7df",
   "metadata": {},
   "outputs": [
    {
     "data": {
      "application/vnd.plotly.v1+json": {
       "config": {
        "plotlyServerURL": "https://plot.ly"
       },
       "data": [
        {
         "marker": {
          "color": "skyblue"
         },
         "orientation": "h",
         "type": "bar",
         "x": [
          37,
          33,
          6,
          2,
          1,
          1
         ],
         "y": [
          "Samajwadi Party - SP",
          "Bharatiya Janata Party - BJP",
          "Indian National Congress - INC",
          "Rashtriya Lok Dal - RLD",
          "Aazad Samaj Party (Kanshi Ram) - ASPKR",
          "Apna Dal (Soneylal) - ADAL"
         ]
        }
       ],
       "layout": {
        "autosize": true,
        "template": {
         "data": {
          "bar": [
           {
            "error_x": {
             "color": "#2a3f5f"
            },
            "error_y": {
             "color": "#2a3f5f"
            },
            "marker": {
             "line": {
              "color": "#E5ECF6",
              "width": 0.5
             },
             "pattern": {
              "fillmode": "overlay",
              "size": 10,
              "solidity": 0.2
             }
            },
            "type": "bar"
           }
          ],
          "barpolar": [
           {
            "marker": {
             "line": {
              "color": "#E5ECF6",
              "width": 0.5
             },
             "pattern": {
              "fillmode": "overlay",
              "size": 10,
              "solidity": 0.2
             }
            },
            "type": "barpolar"
           }
          ],
          "carpet": [
           {
            "aaxis": {
             "endlinecolor": "#2a3f5f",
             "gridcolor": "white",
             "linecolor": "white",
             "minorgridcolor": "white",
             "startlinecolor": "#2a3f5f"
            },
            "baxis": {
             "endlinecolor": "#2a3f5f",
             "gridcolor": "white",
             "linecolor": "white",
             "minorgridcolor": "white",
             "startlinecolor": "#2a3f5f"
            },
            "type": "carpet"
           }
          ],
          "choropleth": [
           {
            "colorbar": {
             "outlinewidth": 0,
             "ticks": ""
            },
            "type": "choropleth"
           }
          ],
          "contour": [
           {
            "colorbar": {
             "outlinewidth": 0,
             "ticks": ""
            },
            "colorscale": [
             [
              0,
              "#0d0887"
             ],
             [
              0.1111111111111111,
              "#46039f"
             ],
             [
              0.2222222222222222,
              "#7201a8"
             ],
             [
              0.3333333333333333,
              "#9c179e"
             ],
             [
              0.4444444444444444,
              "#bd3786"
             ],
             [
              0.5555555555555556,
              "#d8576b"
             ],
             [
              0.6666666666666666,
              "#ed7953"
             ],
             [
              0.7777777777777778,
              "#fb9f3a"
             ],
             [
              0.8888888888888888,
              "#fdca26"
             ],
             [
              1,
              "#f0f921"
             ]
            ],
            "type": "contour"
           }
          ],
          "contourcarpet": [
           {
            "colorbar": {
             "outlinewidth": 0,
             "ticks": ""
            },
            "type": "contourcarpet"
           }
          ],
          "heatmap": [
           {
            "colorbar": {
             "outlinewidth": 0,
             "ticks": ""
            },
            "colorscale": [
             [
              0,
              "#0d0887"
             ],
             [
              0.1111111111111111,
              "#46039f"
             ],
             [
              0.2222222222222222,
              "#7201a8"
             ],
             [
              0.3333333333333333,
              "#9c179e"
             ],
             [
              0.4444444444444444,
              "#bd3786"
             ],
             [
              0.5555555555555556,
              "#d8576b"
             ],
             [
              0.6666666666666666,
              "#ed7953"
             ],
             [
              0.7777777777777778,
              "#fb9f3a"
             ],
             [
              0.8888888888888888,
              "#fdca26"
             ],
             [
              1,
              "#f0f921"
             ]
            ],
            "type": "heatmap"
           }
          ],
          "heatmapgl": [
           {
            "colorbar": {
             "outlinewidth": 0,
             "ticks": ""
            },
            "colorscale": [
             [
              0,
              "#0d0887"
             ],
             [
              0.1111111111111111,
              "#46039f"
             ],
             [
              0.2222222222222222,
              "#7201a8"
             ],
             [
              0.3333333333333333,
              "#9c179e"
             ],
             [
              0.4444444444444444,
              "#bd3786"
             ],
             [
              0.5555555555555556,
              "#d8576b"
             ],
             [
              0.6666666666666666,
              "#ed7953"
             ],
             [
              0.7777777777777778,
              "#fb9f3a"
             ],
             [
              0.8888888888888888,
              "#fdca26"
             ],
             [
              1,
              "#f0f921"
             ]
            ],
            "type": "heatmapgl"
           }
          ],
          "histogram": [
           {
            "marker": {
             "pattern": {
              "fillmode": "overlay",
              "size": 10,
              "solidity": 0.2
             }
            },
            "type": "histogram"
           }
          ],
          "histogram2d": [
           {
            "colorbar": {
             "outlinewidth": 0,
             "ticks": ""
            },
            "colorscale": [
             [
              0,
              "#0d0887"
             ],
             [
              0.1111111111111111,
              "#46039f"
             ],
             [
              0.2222222222222222,
              "#7201a8"
             ],
             [
              0.3333333333333333,
              "#9c179e"
             ],
             [
              0.4444444444444444,
              "#bd3786"
             ],
             [
              0.5555555555555556,
              "#d8576b"
             ],
             [
              0.6666666666666666,
              "#ed7953"
             ],
             [
              0.7777777777777778,
              "#fb9f3a"
             ],
             [
              0.8888888888888888,
              "#fdca26"
             ],
             [
              1,
              "#f0f921"
             ]
            ],
            "type": "histogram2d"
           }
          ],
          "histogram2dcontour": [
           {
            "colorbar": {
             "outlinewidth": 0,
             "ticks": ""
            },
            "colorscale": [
             [
              0,
              "#0d0887"
             ],
             [
              0.1111111111111111,
              "#46039f"
             ],
             [
              0.2222222222222222,
              "#7201a8"
             ],
             [
              0.3333333333333333,
              "#9c179e"
             ],
             [
              0.4444444444444444,
              "#bd3786"
             ],
             [
              0.5555555555555556,
              "#d8576b"
             ],
             [
              0.6666666666666666,
              "#ed7953"
             ],
             [
              0.7777777777777778,
              "#fb9f3a"
             ],
             [
              0.8888888888888888,
              "#fdca26"
             ],
             [
              1,
              "#f0f921"
             ]
            ],
            "type": "histogram2dcontour"
           }
          ],
          "mesh3d": [
           {
            "colorbar": {
             "outlinewidth": 0,
             "ticks": ""
            },
            "type": "mesh3d"
           }
          ],
          "parcoords": [
           {
            "line": {
             "colorbar": {
              "outlinewidth": 0,
              "ticks": ""
             }
            },
            "type": "parcoords"
           }
          ],
          "pie": [
           {
            "automargin": true,
            "type": "pie"
           }
          ],
          "scatter": [
           {
            "fillpattern": {
             "fillmode": "overlay",
             "size": 10,
             "solidity": 0.2
            },
            "type": "scatter"
           }
          ],
          "scatter3d": [
           {
            "line": {
             "colorbar": {
              "outlinewidth": 0,
              "ticks": ""
             }
            },
            "marker": {
             "colorbar": {
              "outlinewidth": 0,
              "ticks": ""
             }
            },
            "type": "scatter3d"
           }
          ],
          "scattercarpet": [
           {
            "marker": {
             "colorbar": {
              "outlinewidth": 0,
              "ticks": ""
             }
            },
            "type": "scattercarpet"
           }
          ],
          "scattergeo": [
           {
            "marker": {
             "colorbar": {
              "outlinewidth": 0,
              "ticks": ""
             }
            },
            "type": "scattergeo"
           }
          ],
          "scattergl": [
           {
            "marker": {
             "colorbar": {
              "outlinewidth": 0,
              "ticks": ""
             }
            },
            "type": "scattergl"
           }
          ],
          "scattermapbox": [
           {
            "marker": {
             "colorbar": {
              "outlinewidth": 0,
              "ticks": ""
             }
            },
            "type": "scattermapbox"
           }
          ],
          "scatterpolar": [
           {
            "marker": {
             "colorbar": {
              "outlinewidth": 0,
              "ticks": ""
             }
            },
            "type": "scatterpolar"
           }
          ],
          "scatterpolargl": [
           {
            "marker": {
             "colorbar": {
              "outlinewidth": 0,
              "ticks": ""
             }
            },
            "type": "scatterpolargl"
           }
          ],
          "scatterternary": [
           {
            "marker": {
             "colorbar": {
              "outlinewidth": 0,
              "ticks": ""
             }
            },
            "type": "scatterternary"
           }
          ],
          "surface": [
           {
            "colorbar": {
             "outlinewidth": 0,
             "ticks": ""
            },
            "colorscale": [
             [
              0,
              "#0d0887"
             ],
             [
              0.1111111111111111,
              "#46039f"
             ],
             [
              0.2222222222222222,
              "#7201a8"
             ],
             [
              0.3333333333333333,
              "#9c179e"
             ],
             [
              0.4444444444444444,
              "#bd3786"
             ],
             [
              0.5555555555555556,
              "#d8576b"
             ],
             [
              0.6666666666666666,
              "#ed7953"
             ],
             [
              0.7777777777777778,
              "#fb9f3a"
             ],
             [
              0.8888888888888888,
              "#fdca26"
             ],
             [
              1,
              "#f0f921"
             ]
            ],
            "type": "surface"
           }
          ],
          "table": [
           {
            "cells": {
             "fill": {
              "color": "#EBF0F8"
             },
             "line": {
              "color": "white"
             }
            },
            "header": {
             "fill": {
              "color": "#C8D4E3"
             },
             "line": {
              "color": "white"
             }
            },
            "type": "table"
           }
          ]
         },
         "layout": {
          "annotationdefaults": {
           "arrowcolor": "#2a3f5f",
           "arrowhead": 0,
           "arrowwidth": 1
          },
          "autotypenumbers": "strict",
          "coloraxis": {
           "colorbar": {
            "outlinewidth": 0,
            "ticks": ""
           }
          },
          "colorscale": {
           "diverging": [
            [
             0,
             "#8e0152"
            ],
            [
             0.1,
             "#c51b7d"
            ],
            [
             0.2,
             "#de77ae"
            ],
            [
             0.3,
             "#f1b6da"
            ],
            [
             0.4,
             "#fde0ef"
            ],
            [
             0.5,
             "#f7f7f7"
            ],
            [
             0.6,
             "#e6f5d0"
            ],
            [
             0.7,
             "#b8e186"
            ],
            [
             0.8,
             "#7fbc41"
            ],
            [
             0.9,
             "#4d9221"
            ],
            [
             1,
             "#276419"
            ]
           ],
           "sequential": [
            [
             0,
             "#0d0887"
            ],
            [
             0.1111111111111111,
             "#46039f"
            ],
            [
             0.2222222222222222,
             "#7201a8"
            ],
            [
             0.3333333333333333,
             "#9c179e"
            ],
            [
             0.4444444444444444,
             "#bd3786"
            ],
            [
             0.5555555555555556,
             "#d8576b"
            ],
            [
             0.6666666666666666,
             "#ed7953"
            ],
            [
             0.7777777777777778,
             "#fb9f3a"
            ],
            [
             0.8888888888888888,
             "#fdca26"
            ],
            [
             1,
             "#f0f921"
            ]
           ],
           "sequentialminus": [
            [
             0,
             "#0d0887"
            ],
            [
             0.1111111111111111,
             "#46039f"
            ],
            [
             0.2222222222222222,
             "#7201a8"
            ],
            [
             0.3333333333333333,
             "#9c179e"
            ],
            [
             0.4444444444444444,
             "#bd3786"
            ],
            [
             0.5555555555555556,
             "#d8576b"
            ],
            [
             0.6666666666666666,
             "#ed7953"
            ],
            [
             0.7777777777777778,
             "#fb9f3a"
            ],
            [
             0.8888888888888888,
             "#fdca26"
            ],
            [
             1,
             "#f0f921"
            ]
           ]
          },
          "colorway": [
           "#636efa",
           "#EF553B",
           "#00cc96",
           "#ab63fa",
           "#FFA15A",
           "#19d3f3",
           "#FF6692",
           "#B6E880",
           "#FF97FF",
           "#FECB52"
          ],
          "font": {
           "color": "#2a3f5f"
          },
          "geo": {
           "bgcolor": "white",
           "lakecolor": "white",
           "landcolor": "#E5ECF6",
           "showlakes": true,
           "showland": true,
           "subunitcolor": "white"
          },
          "hoverlabel": {
           "align": "left"
          },
          "hovermode": "closest",
          "mapbox": {
           "style": "light"
          },
          "paper_bgcolor": "white",
          "plot_bgcolor": "#E5ECF6",
          "polar": {
           "angularaxis": {
            "gridcolor": "white",
            "linecolor": "white",
            "ticks": ""
           },
           "bgcolor": "#E5ECF6",
           "radialaxis": {
            "gridcolor": "white",
            "linecolor": "white",
            "ticks": ""
           }
          },
          "scene": {
           "xaxis": {
            "backgroundcolor": "#E5ECF6",
            "gridcolor": "white",
            "gridwidth": 2,
            "linecolor": "white",
            "showbackground": true,
            "ticks": "",
            "zerolinecolor": "white"
           },
           "yaxis": {
            "backgroundcolor": "#E5ECF6",
            "gridcolor": "white",
            "gridwidth": 2,
            "linecolor": "white",
            "showbackground": true,
            "ticks": "",
            "zerolinecolor": "white"
           },
           "zaxis": {
            "backgroundcolor": "#E5ECF6",
            "gridcolor": "white",
            "gridwidth": 2,
            "linecolor": "white",
            "showbackground": true,
            "ticks": "",
            "zerolinecolor": "white"
           }
          },
          "shapedefaults": {
           "line": {
            "color": "#2a3f5f"
           }
          },
          "ternary": {
           "aaxis": {
            "gridcolor": "white",
            "linecolor": "white",
            "ticks": ""
           },
           "baxis": {
            "gridcolor": "white",
            "linecolor": "white",
            "ticks": ""
           },
           "bgcolor": "#E5ECF6",
           "caxis": {
            "gridcolor": "white",
            "linecolor": "white",
            "ticks": ""
           }
          },
          "title": {
           "x": 0.05
          },
          "xaxis": {
           "automargin": true,
           "gridcolor": "white",
           "linecolor": "white",
           "ticks": "",
           "title": {
            "standoff": 15
           },
           "zerolinecolor": "white",
           "zerolinewidth": 2
          },
          "yaxis": {
           "automargin": true,
           "gridcolor": "white",
           "linecolor": "white",
           "ticks": "",
           "title": {
            "standoff": 15
           },
           "zerolinecolor": "white",
           "zerolinewidth": 2
          }
         }
        },
        "title": {
         "text": "Seats Won by Political Parties"
        },
        "xaxis": {
         "autorange": true,
         "range": [
          0,
          38.94736842105263
         ],
         "title": {
          "text": "Number of Seats Won"
         },
         "type": "linear"
        },
        "yaxis": {
         "autorange": true,
         "range": [
          -0.5,
          5.5
         ],
         "title": {
          "text": "Political Parties"
         },
         "type": "category"
        }
       }
      },
      "image/png": "[encoded data removed]",
      "text/html": [
       "<div>                            <div id=\"87246baf-9725-4828-af1f-a21737e71de2\" class=\"plotly-graph-div\" style=\"height:525px; width:100%;\"></div>            <script type=\"text/javascript\">                require([\"plotly\"], function(Plotly) {                    window.PLOTLYENV=window.PLOTLYENV || {};                                    if (document.getElementById(\"87246baf-9725-4828-af1f-a21737e71de2\")) {                    Plotly.newPlot(                        \"87246baf-9725-4828-af1f-a21737e71de2\",                        [{\"marker\":{\"color\":\"skyblue\"},\"orientation\":\"h\",\"x\":[37,33,6,2,1,1],\"y\":[\"Samajwadi Party - SP\",\"Bharatiya Janata Party - BJP\",\"Indian National Congress - INC\",\"Rashtriya Lok Dal - RLD\",\"Aazad Samaj Party (Kanshi Ram) - ASPKR\",\"Apna Dal (Soneylal) - ADAL\"],\"type\":\"bar\"}],                        {\"title\":{\"text\":\"Seats Won by Political Parties\"},\"xaxis\":{\"title\":{\"text\":\"Number of Seats Won\"}},\"yaxis\":{\"title\":{\"text\":\"Political Parties\"}},\"template\":{\"data\":{\"histogram2dcontour\":[{\"type\":\"histogram2dcontour\",\"colorbar\":{\"outlinewidth\":0,\"ticks\":\"\"},\"colorscale\":[[0.0,\"#0d0887\"],[0.1111111111111111,\"#46039f\"],[0.2222222222222222,\"#7201a8\"],[0.3333333333333333,\"#9c179e\"],[0.4444444444444444,\"#bd3786\"],[0.5555555555555556,\"#d8576b\"],[0.6666666666666666,\"#ed7953\"],[0.7777777777777778,\"#fb9f3a\"],[0.8888888888888888,\"#fdca26\"],[1.0,\"#f0f921\"]]}],\"choropleth\":[{\"type\":\"choropleth\",\"colorbar\":{\"outlinewidth\":0,\"ticks\":\"\"}}],\"histogram2d\":[{\"type\":\"histogram2d\",\"colorbar\":{\"outlinewidth\":0,\"ticks\":\"\"},\"colorscale\":[[0.0,\"#0d0887\"],[0.1111111111111111,\"#46039f\"],[0.2222222222222222,\"#7201a8\"],[0.3333333333333333,\"#9c179e\"],[0.4444444444444444,\"#bd3786\"],[0.5555555555555556,\"#d8576b\"],[0.6666666666666666,\"#ed7953\"],[0.7777777777777778,\"#fb9f3a\"],[0.8888888888888888,\"#fdca26\"],[1.0,\"#f0f921\"]]}],\"heatmap\":[{\"type\":\"heatmap\",\"colorbar\":{\"outlinewidth\":0,\"ticks\":\"\"},\"colorscale\":[[0.0,\"#0d0887\"],[0.1111111111111111,\"#46039f\"],[0.2222222222222222,\"#7201a8\"],[0.3333333333333333,\"#9c179e\"],[0.4444444444444444,\"#bd3786\"],[0.5555555555555556,\"#d8576b\"],[0.6666666666666666,\"#ed7953\"],[0.7777777777777778,\"#fb9f3a\"],[0.8888888888888888,\"#fdca26\"],[1.0,\"#f0f921\"]]}],\"heatmapgl\":[{\"type\":\"heatmapgl\",\"colorbar\":{\"outlinewidth\":0,\"ticks\":\"\"},\"colorscale\":[[0.0,\"#0d0887\"],[0.1111111111111111,\"#46039f\"],[0.2222222222222222,\"#7201a8\"],[0.3333333333333333,\"#9c179e\"],[0.4444444444444444,\"#bd3786\"],[0.5555555555555556,\"#d8576b\"],[0.6666666666666666,\"#ed7953\"],[0.7777777777777778,\"#fb9f3a\"],[0.8888888888888888,\"#fdca26\"],[1.0,\"#f0f921\"]]}],\"contourcarpet\":[{\"type\":\"contourcarpet\",\"colorbar\":{\"outlinewidth\":0,\"ticks\":\"\"}}],\"contour\":[{\"type\":\"contour\",\"colorbar\":{\"outlinewidth\":0,\"ticks\":\"\"},\"colorscale\":[[0.0,\"#0d0887\"],[0.1111111111111111,\"#46039f\"],[0.2222222222222222,\"#7201a8\"],[0.3333333333333333,\"#9c179e\"],[0.4444444444444444,\"#bd3786\"],[0.5555555555555556,\"#d8576b\"],[0.6666666666666666,\"#ed7953\"],[0.7777777777777778,\"#fb9f3a\"],[0.8888888888888888,\"#fdca26\"],[1.0,\"#f0f921\"]]}],\"surface\":[{\"type\":\"surface\",\"colorbar\":{\"outlinewidth\":0,\"ticks\":\"\"},\"colorscale\":[[0.0,\"#0d0887\"],[0.1111111111111111,\"#46039f\"],[0.2222222222222222,\"#7201a8\"],[0.3333333333333333,\"#9c179e\"],[0.4444444444444444,\"#bd3786\"],[0.5555555555555556,\"#d8576b\"],[0.6666666666666666,\"#ed7953\"],[0.7777777777777778,\"#fb9f3a\"],[0.8888888888888888,\"#fdca26\"],[1.0,\"#f0f921\"]]}],\"mesh3d\":[{\"type\":\"mesh3d\",\"colorbar\":{\"outlinewidth\":0,\"ticks\":\"\"}}],\"scatter\":[{\"fillpattern\":{\"fillmode\":\"overlay\",\"size\":10,\"solidity\":0.2},\"type\":\"scatter\"}],\"parcoords\":[{\"type\":\"parcoords\",\"line\":{\"colorbar\":{\"outlinewidth\":0,\"ticks\":\"\"}}}],\"scatterpolargl\":[{\"type\":\"scatterpolargl\",\"marker\":{\"colorbar\":{\"outlinewidth\":0,\"ticks\":\"\"}}}],\"bar\":[{\"error_x\":{\"color\":\"#2a3f5f\"},\"error_y\":{\"color\":\"#2a3f5f\"},\"marker\":{\"line\":{\"color\":\"#E5ECF6\",\"width\":0.5},\"pattern\":{\"fillmode\":\"overlay\",\"size\":10,\"solidity\":0.2}},\"type\":\"bar\"}],\"scattergeo\":[{\"type\":\"scattergeo\",\"marker\":{\"colorbar\":{\"outlinewidth\":0,\"ticks\":\"\"}}}],\"scatterpolar\":[{\"type\":\"scatterpolar\",\"marker\":{\"colorbar\":{\"outlinewidth\":0,\"ticks\":\"\"}}}],\"histogram\":[{\"marker\":{\"pattern\":{\"fillmode\":\"overlay\",\"size\":10,\"solidity\":0.2}},\"type\":\"histogram\"}],\"scattergl\":[{\"type\":\"scattergl\",\"marker\":{\"colorbar\":{\"outlinewidth\":0,\"ticks\":\"\"}}}],\"scatter3d\":[{\"type\":\"scatter3d\",\"line\":{\"colorbar\":{\"outlinewidth\":0,\"ticks\":\"\"}},\"marker\":{\"colorbar\":{\"outlinewidth\":0,\"ticks\":\"\"}}}],\"scattermapbox\":[{\"type\":\"scattermapbox\",\"marker\":{\"colorbar\":{\"outlinewidth\":0,\"ticks\":\"\"}}}],\"scatterternary\":[{\"type\":\"scatterternary\",\"marker\":{\"colorbar\":{\"outlinewidth\":0,\"ticks\":\"\"}}}],\"scattercarpet\":[{\"type\":\"scattercarpet\",\"marker\":{\"colorbar\":{\"outlinewidth\":0,\"ticks\":\"\"}}}],\"carpet\":[{\"aaxis\":{\"endlinecolor\":\"#2a3f5f\",\"gridcolor\":\"white\",\"linecolor\":\"white\",\"minorgridcolor\":\"white\",\"startlinecolor\":\"#2a3f5f\"},\"baxis\":{\"endlinecolor\":\"#2a3f5f\",\"gridcolor\":\"white\",\"linecolor\":\"white\",\"minorgridcolor\":\"white\",\"startlinecolor\":\"#2a3f5f\"},\"type\":\"carpet\"}],\"table\":[{\"cells\":{\"fill\":{\"color\":\"#EBF0F8\"},\"line\":{\"color\":\"white\"}},\"header\":{\"fill\":{\"color\":\"#C8D4E3\"},\"line\":{\"color\":\"white\"}},\"type\":\"table\"}],\"barpolar\":[{\"marker\":{\"line\":{\"color\":\"#E5ECF6\",\"width\":0.5},\"pattern\":{\"fillmode\":\"overlay\",\"size\":10,\"solidity\":0.2}},\"type\":\"barpolar\"}],\"pie\":[{\"automargin\":true,\"type\":\"pie\"}]},\"layout\":{\"autotypenumbers\":\"strict\",\"colorway\":[\"#636efa\",\"#EF553B\",\"#00cc96\",\"#ab63fa\",\"#FFA15A\",\"#19d3f3\",\"#FF6692\",\"#B6E880\",\"#FF97FF\",\"#FECB52\"],\"font\":{\"color\":\"#2a3f5f\"},\"hovermode\":\"closest\",\"hoverlabel\":{\"align\":\"left\"},\"paper_bgcolor\":\"white\",\"plot_bgcolor\":\"#E5ECF6\",\"polar\":{\"bgcolor\":\"#E5ECF6\",\"angularaxis\":{\"gridcolor\":\"white\",\"linecolor\":\"white\",\"ticks\":\"\"},\"radialaxis\":{\"gridcolor\":\"white\",\"linecolor\":\"white\",\"ticks\":\"\"}},\"ternary\":{\"bgcolor\":\"#E5ECF6\",\"aaxis\":{\"gridcolor\":\"white\",\"linecolor\":\"white\",\"ticks\":\"\"},\"baxis\":{\"gridcolor\":\"white\",\"linecolor\":\"white\",\"ticks\":\"\"},\"caxis\":{\"gridcolor\":\"white\",\"linecolor\":\"white\",\"ticks\":\"\"}},\"coloraxis\":{\"colorbar\":{\"outlinewidth\":0,\"ticks\":\"\"}},\"colorscale\":{\"sequential\":[[0.0,\"#0d0887\"],[0.1111111111111111,\"#46039f\"],[0.2222222222222222,\"#7201a8\"],[0.3333333333333333,\"#9c179e\"],[0.4444444444444444,\"#bd3786\"],[0.5555555555555556,\"#d8576b\"],[0.6666666666666666,\"#ed7953\"],[0.7777777777777778,\"#fb9f3a\"],[0.8888888888888888,\"#fdca26\"],[1.0,\"#f0f921\"]],\"sequentialminus\":[[0.0,\"#0d0887\"],[0.1111111111111111,\"#46039f\"],[0.2222222222222222,\"#7201a8\"],[0.3333333333333333,\"#9c179e\"],[0.4444444444444444,\"#bd3786\"],[0.5555555555555556,\"#d8576b\"],[0.6666666666666666,\"#ed7953\"],[0.7777777777777778,\"#fb9f3a\"],[0.8888888888888888,\"#fdca26\"],[1.0,\"#f0f921\"]],\"diverging\":[[0,\"#8e0152\"],[0.1,\"#c51b7d\"],[0.2,\"#de77ae\"],[0.3,\"#f1b6da\"],[0.4,\"#fde0ef\"],[0.5,\"#f7f7f7\"],[0.6,\"#e6f5d0\"],[0.7,\"#b8e186\"],[0.8,\"#7fbc41\"],[0.9,\"#4d9221\"],[1,\"#276419\"]]},\"xaxis\":{\"gridcolor\":\"white\",\"linecolor\":\"white\",\"ticks\":\"\",\"title\":{\"standoff\":15},\"zerolinecolor\":\"white\",\"automargin\":true,\"zerolinewidth\":2},\"yaxis\":{\"gridcolor\":\"white\",\"linecolor\":\"white\",\"ticks\":\"\",\"title\":{\"standoff\":15},\"zerolinecolor\":\"white\",\"automargin\":true,\"zerolinewidth\":2},\"scene\":{\"xaxis\":{\"backgroundcolor\":\"#E5ECF6\",\"gridcolor\":\"white\",\"linecolor\":\"white\",\"showbackground\":true,\"ticks\":\"\",\"zerolinecolor\":\"white\",\"gridwidth\":2},\"yaxis\":{\"backgroundcolor\":\"#E5ECF6\",\"gridcolor\":\"white\",\"linecolor\":\"white\",\"showbackground\":true,\"ticks\":\"\",\"zerolinecolor\":\"white\",\"gridwidth\":2},\"zaxis\":{\"backgroundcolor\":\"#E5ECF6\",\"gridcolor\":\"white\",\"linecolor\":\"white\",\"showbackground\":true,\"ticks\":\"\",\"zerolinecolor\":\"white\",\"gridwidth\":2}},\"shapedefaults\":{\"line\":{\"color\":\"#2a3f5f\"}},\"annotationdefaults\":{\"arrowcolor\":\"#2a3f5f\",\"arrowhead\":0,\"arrowwidth\":1},\"geo\":{\"bgcolor\":\"white\",\"landcolor\":\"#E5ECF6\",\"subunitcolor\":\"white\",\"showland\":true,\"showlakes\":true,\"lakecolor\":\"white\"},\"title\":{\"x\":0.05},\"mapbox\":{\"style\":\"light\"}}}},                        {\"responsive\": true}                    ).then(function(){\n",
       "                            \n",
       "var gd = document.getElementById('87246baf-9725-4828-af1f-a21737e71de2');\n",
       "var x = new MutationObserver(function (mutations, observer) {{\n",
       "        var display = window.getComputedStyle(gd).display;\n",
       "        if (!display || display === 'none') {{\n",
       "            console.log([gd, 'removed!']);\n",
       "            Plotly.purge(gd);\n",
       "            observer.disconnect();\n",
       "        }}\n",
       "}});\n",
       "\n",
       "// Listen for the removal of the full notebook cells\n",
       "var notebookContainer = gd.closest('#notebook-container');\n",
       "if (notebookContainer) {{\n",
       "    x.observe(notebookContainer, {childList: true});\n",
       "}}\n",
       "\n",
       "// Listen for the clearing of the current output cell\n",
       "var outputEl = gd.closest('.output');\n",
       "if (outputEl) {{\n",
       "    x.observe(outputEl, {childList: true});\n",
       "}}\n",
       "\n",
       "                        })                };                });            </script>        </div>"
      ]
     },
     "metadata": {},
     "output_type": "display_data"
    }
   ],
   "source": [
    "#insight 10 trace representational\n",
    "import plotly.graph_objs as go\n",
    "\n",
    "# Create trace for bar chart\n",
    "trace = go.Bar(\n",
    "    x=seats_won,\n",
    "    y=party_names,\n",
    "    orientation='h',\n",
    "    marker=dict(color='skyblue')\n",
    ")\n",
    "\n",
    "# Create layout\n",
    "layout = go.Layout(\n",
    "    title='Seats Won by Political Parties',\n",
    "    xaxis=dict(title='Number of Seats Won'),\n",
    "    yaxis=dict(title='Political Parties')\n",
    ")\n",
    "\n",
    "# Create figure\n",
    "fig = go.Figure(data=[trace], layout=layout)\n",
    "fig.show()\n"
   ]
  },
  {
   "cell_type": "code",
   "execution_count": null,
   "id": "91781ff6-8b52-413f-b567-515b74547788",
   "metadata": {},
   "outputs": [],
   "source": []
  }
 ],
 "metadata": {
  "kernelspec": {
   "display_name": "Python 3 (ipykernel)",
   "language": "python",
   "name": "python3"
  },
  "language_info": {
   "codemirror_mode": {
    "name": "ipython",
    "version": 3
   },
   "file_extension": ".py",
   "mimetype": "text/x-python",
   "name": "python",
   "nbconvert_exporter": "python",
   "pygments_lexer": "ipython3",
   "version": "3.11.7"
  }
 },
 "nbformat": 4,
 "nbformat_minor": 5
}
